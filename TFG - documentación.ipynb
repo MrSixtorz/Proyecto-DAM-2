{
 "cells": [
  {
   "cell_type": "markdown",
   "id": "c508e549",
   "metadata": {
    "extensions": {
     "jupyter_dashboards": {
      "activeView": "grid_default",
      "views": {
       "grid_default": {
        "col": 0,
        "height": 3,
        "hidden": false,
        "locked": true,
        "row": 0,
        "width": 12
       }
      }
     }
    }
   },
   "source": [
    "# Crystal Ball ++"
   ]
  },
  {
   "cell_type": "markdown",
   "id": "404ef751",
   "metadata": {
    "extensions": {
     "jupyter_dashboards": {
      "activeView": "grid_default",
      "views": {
       "grid_default": {
        "col": 0,
        "height": 3,
        "hidden": false,
        "locked": true,
        "row": 3,
        "width": 12
       }
      }
     }
    }
   },
   "source": [
    "## Introducción-."
   ]
  },
  {
   "cell_type": "markdown",
   "id": "055f7729",
   "metadata": {
    "extensions": {
     "jupyter_dashboards": {
      "activeView": "grid_default",
      "views": {
       "grid_default": {
        "col": 0,
        "height": 27,
        "hidden": false,
        "locked": true,
        "row": 6,
        "width": 12
       }
      }
     }
    }
   },
   "source": [
    "&nbsp;&nbsp;&nbsp;&nbsp;&nbsp;En este proyecto vamos a analizar los datos de accidentalidad en la ciudad de Madrid entre 2019 y 2023, y ver si podemos predecir que índice de accidentalidad tendremos en el año 2024. Para ello utilizaremos los datos abiertos que podemos recoger en la web del ayuntamiento de Madrid:\n",
    "  - https://datos.madrid.es/portal/site/egob/menuitem.c05c1f754a33a9fbe4b2e4b284f1a5a0/?vgnextoid=7c2843010d9c3610VgnVCM2000001f4a900aRCRD&vgnextchannel=374512b9ace9f310VgnVCM100000171f5a0aRCRD&vgnextfmt=default\n",
    "\n",
    "&nbsp;&nbsp;&nbsp;&nbsp;&nbsp;Cabría comentar que tener el dato del volúmen de tráfico podría haber dado una mejor dimensión estadística de los accidentes ocurridos, y nos permitiría tener un mejor entendimiento de lo que podría estar causando los accidentes en la ciudad de Madrid.\n",
    "\n",
    "&nbsp;&nbsp;&nbsp;&nbsp;&nbsp;Lo primero que haremos es entender los datos que podemos ver en los archivos csv que nos bajaremos desde la web y para eso veremos la estructura del conjunto del fichero que nos facilita también la web. Podremos observar los siguientes datos:\n",
    "| Nº de columna | Nombre de columna | Descripción | Valores Esperados |\n",
    "|:-------------:|:-----------------:|:-----------|:-----------------:|\n",
    "| 1 | num_expediente |AAAASNNNNNN, donde:<br>- AAAA es el año del accidente.<br>- S cuando se trata de un expediente con accidente.| texto |\n",
    "| 2             | fecha             | Fecha en formato dd/mm/aaaa       | fecha             |\n",
    "| 3             | hora              | La hora se establece en rangos horarios de 1 hora | hora |\n",
    "| 4             | localizacion      | Calle 1 - Calle 2 (cruce) o una calle | Texto |\n",
    "| 5             | numero            | Número de la calle, cuando tiene sentido | Número |\n",
    "| 6             | cod_distrito          | Código del distrito                     | Número            |\n",
    "| 7             | distrito              | Nombre del Distrito                     | Texto             |\n",
    "| 8             | tipo_accidente*       | Tipo de accidente: tipificado mas abajo | Texto             |\n",
    "| 9             | estado_meteorologico  | Descripción climatología                | Texto             |\n",
    "| 10            | tipo_vehiculo         | Tipo vehículo implicado                 | Texto             |\n",
    "| 11            | tipo_persona          | Tipo persona implicada                  | Texto             |\n",
    "| 12            | rango_edad            | Tramo edad persona afectada             | Texto             |\n",
    "| 13            | sexo                  | Puede ser: hombre, mujer o no asignado | Texto             |\n",
    "| 14            | cod_lesividad*        | Viene tipificado mas abajo              | Número            |\n",
    "| 15            | lesividad             | Descripción lesividad                   | Texto             |\n",
    "| 16            | coordenada_x_utm      | Ubicación coordenada x                  | Número            |\n",
    "| 17            | coordenada_y_utm      | Ubicación coordenada y                  | Número            |\n",
    "| 18            | positiva_alcohol      | Puede ser: N o S                        | N o S             |\n",
    "| 19            | positiva_droga        | Puede ser: NULL o 1                     | NULL o 1          |\n"
   ]
  },
  {
   "cell_type": "markdown",
   "id": "cd4d799d",
   "metadata": {
    "extensions": {
     "jupyter_dashboards": {
      "activeView": "grid_default",
      "views": {
       "grid_default": {
        "col": null,
        "height": 2,
        "hidden": true,
        "locked": true,
        "row": null,
        "width": 2
       }
      }
     }
    }
   },
   "source": [
    "También nos dan una breve descripción sobre como interpretar como han sido los accidentes de tráfico:"
   ]
  },
  {
   "cell_type": "markdown",
   "id": "bac51705-6ec9-4a35-9045-20a2d599aee7",
   "metadata": {
    "extensions": {
     "jupyter_dashboards": {
      "activeView": "grid_default",
      "views": {
       "grid_default": {
        "col": null,
        "height": 2,
        "hidden": true,
        "locked": true,
        "row": null,
        "width": 2
       }
      }
     }
    },
    "tags": []
   },
   "source": [
    "  - **Colisión doble:** haría referencia a un accidente de tráfico ocurrido entre 2 vehículos en movimiento, ya sea una colisión frontal, fronto lateral o lateral.\n",
    "  - **Colisión múltiple:** haría referencia a un accidente de tráfico ocurrido entre más de dos vehículos en movimiento.\n",
    "  - **Alcance:** haría referencia a un accidente que se produce cuando un vehículo circulando o detenido por las circunstancias del tráfico es golpeado en su parte posterior por otro vehículo.\n",
    "  - **Choque contra obstáculo o elemento de la vía:** haría referencia a un accidente ocurrido entre un vehículo en movimiento con conductor y un objeto inmóvil que ocupa la vía o zona apartada de la misma, ya sea vehículo estacionado, árbol, farola, etc.\n",
    "  - **Atropello a persona:** ocurrido ente un vehículo y un peatón que ocupa la calzada o que transita por aceras, refugios, paseos o zonas de la vía pública no destinada a la circulación de vehículos.\n",
    "  - **Vuelco:** haría referencia a un accidente sufrido por un vehículo con más de dos ruedas y que por alguna circunstancia sus neumáticos pierden el contacto con la calzada quedando apoyado sobre un costado o sobre el techo.\n",
    "  - **Caida:** aquí se agrupan todas las caídas relacionadas con el desarrollo y las circunstancias del tráfico, (motocicleta, ciclomotor, bicicleta, viajero bus, etc.,)\n",
    "  - **Otras causas:** donde tendríamos los accidentes por atropello a un animal, despeñamiento, salida de la vía, y otros.\n"
   ]
  },
  {
   "cell_type": "markdown",
   "id": "7723464a-931f-4b9b-a7e9-f38bc0a76e59",
   "metadata": {
    "extensions": {
     "jupyter_dashboards": {
      "activeView": "grid_default",
      "views": {
       "grid_default": {
        "col": null,
        "height": 2,
        "hidden": true,
        "locked": true,
        "row": null,
        "width": 2
       }
      }
     }
    }
   },
   "source": [
    "Y ya por último nos describe los códigos de ***lesividad***, donde entre los códigos 01 al 07 son todos **LEVES** excepto el 03 que es **GRAVE** y el 04 que es **FALLECIDO**, mientras que el 14 y el 77 la lesividad es inexistente:"
   ]
  },
  {
   "cell_type": "markdown",
   "id": "dc6aaab8-5fff-41cd-a0c0-a62e2a5f2057",
   "metadata": {
    "extensions": {
     "jupyter_dashboards": {
      "activeView": "grid_default",
      "views": {
       "grid_default": {
        "col": null,
        "height": 2,
        "hidden": true,
        "locked": true,
        "row": null,
        "width": 2
       }
      }
     }
    }
   },
   "source": [
    "  - **01**, atención en urgencias sin posterior ingreso.\n",
    "  - **02**, ingreso inferior o igual a 24 horas.\n",
    "  - **03**, ingreso superior a 24 horas.\n",
    "  - **04**, fallecido 24 horas.\n",
    "  - **05**, asistencia sanitaria ambulatoria con posterioridad.\n",
    "  - **06**, asistencia sanitaria inmediata en centro de salud o mutua.\n",
    "  - **07**, asistencia sanitaria sólo en el lugar del accidente.\n",
    "  - **14**, sin asistencia sanitaria.\n",
    "  - **77**, se desconoce."
   ]
  },
  {
   "cell_type": "markdown",
   "id": "e53b0380-18fc-435a-9e05-085f7191c110",
   "metadata": {
    "extensions": {
     "jupyter_dashboards": {
      "activeView": "grid_default",
      "views": {
       "grid_default": {
        "col": null,
        "height": 2,
        "hidden": true,
        "locked": true,
        "row": null,
        "width": 2
       }
      }
     }
    }
   },
   "source": [
    "&nbsp;&nbsp;&nbsp;&nbsp;&nbsp;Lo primero, es que deberemos unificar en un único archivo csv todos los años de datos que vamos recibiendo del ayuntamiento de Madrid, para posteriormente tratar las variables y entradas. \n",
    "<br>&nbsp;&nbsp;&nbsp;&nbsp;&nbsp;Después de observar la tipología de la tabla ofrecida por los archivos csv, borraremos la variable del **número de expediente** ya que no influye de ninguna manera en el análisis estadístico que pretendemos realizar o a nivel informativo. Hay ciertas variables que son solo descriptivas como el **distrito** que completa la información del **código de distrito**, y ocurre lo mismo con el **código de lesividad** y **lesividad**, que nos da una pequeña descripción que hemos detallado antes; por tanto las dejaremos en nuestro dataframe.<br>\n",
    "&nbsp;&nbsp;&nbsp;&nbsp;&nbsp;También añadiremos columnas y cambiaremos algunas de ellas dadas el formato que nos ofrecen. Observamos que en la columna de **hora** nos da unas entradas o registros del tipo: *30/12/1899 1:15:00*, y convertiremos en *01:15* y a partir de ella crearemos una nueva variable de **franjas horarias** para poder analizar en que franja se producen más accidentes.<br>\n",
    "&nbsp;&nbsp;&nbsp;&nbsp;&nbsp;De la variable **fecha** extraeremos dos nuevas variables: **día de la semana** y **mes**, que creo que nos pueden dar datos relevantes de cuando se producen los accidentes. Podemos también observar en la forma de expresar las coordenadas UTM (Universal Transverse Mercator) que están mal expresadas en algúno de los archivos csv: *444.578.15* o *445.094,90* y deberían ser todas unificadas como *444578.15 o 445094.90*. Y posteriormente las transformaremos en nuevas columnas de latitud y longitud para que en Tableau podamos tener una representación gráfica de los accidentes en un mapa.<br>\n",
    "&nbsp;&nbsp;&nbsp;&nbsp;&nbsp;Una vez hecho todo esto con python empezaremos a sacar conclusiones que nos ofrecen los datos recogidos por la policía municipal de Madrid, y trataremos de representar gráficamente nuestras conclusiones. A partir de las conclusiones, sacaremos un modelo predictivo que nos permita predecir datos estadísticos de accidentes de una zona, mes, día, etc. "
   ]
  },
  {
   "cell_type": "markdown",
   "id": "374dabd0-cd5e-4e5c-bf14-c392c9094194",
   "metadata": {
    "extensions": {
     "jupyter_dashboards": {
      "activeView": "grid_default",
      "views": {
       "grid_default": {
        "col": null,
        "height": 2,
        "hidden": true,
        "locked": true,
        "row": null,
        "width": 2
       }
      }
     }
    }
   },
   "source": [
    "## Preparación del Dataframe."
   ]
  },
  {
   "cell_type": "markdown",
   "id": "044e4fb3-16bf-40de-8a74-5db9ef060c93",
   "metadata": {
    "extensions": {
     "jupyter_dashboards": {
      "activeView": "grid_default",
      "views": {
       "grid_default": {
        "col": null,
        "height": 2,
        "hidden": true,
        "locked": true,
        "row": null,
        "width": 2
       }
      }
     }
    }
   },
   "source": [
    "### Uniendo los csv."
   ]
  },
  {
   "cell_type": "markdown",
   "id": "dc29e99b-79e3-4f40-a701-8bbef69de575",
   "metadata": {
    "extensions": {
     "jupyter_dashboards": {
      "activeView": "grid_default",
      "views": {
       "grid_default": {
        "col": null,
        "height": 2,
        "hidden": true,
        "locked": true,
        "row": null,
        "width": 2
       }
      }
     }
    }
   },
   "source": [
    "&nbsp;&nbsp;&nbsp;&nbsp;&nbsp;Como hemos comentado antes nos bajamos los archivos de accidentes en Madrid por año en formato csv, así que tendremos que unir en un único archivo para luego tratar los datos. Lo primero es importar las librerías que usaremos para tratar y crear nuestro dataframe: **pandas**, que nos permitirá crear el dataframe y tratarlo, y **glob**, que nos permitirá seguir un patrón de búsqueda para unir los archivos."
   ]
  },
  {
   "cell_type": "code",
   "execution_count": 1,
   "id": "ed2da80f-02f2-4f4c-a7b8-5cc87bc9732e",
   "metadata": {
    "extensions": {
     "jupyter_dashboards": {
      "activeView": "grid_default",
      "views": {
       "grid_default": {
        "col": null,
        "height": 2,
        "hidden": true,
        "locked": true,
        "row": null,
        "width": 2
       }
      }
     }
    },
    "tags": []
   },
   "outputs": [
    {
     "data": {
      "text/html": [
       "<div>\n",
       "<style scoped>\n",
       "    .dataframe tbody tr th:only-of-type {\n",
       "        vertical-align: middle;\n",
       "    }\n",
       "\n",
       "    .dataframe tbody tr th {\n",
       "        vertical-align: top;\n",
       "    }\n",
       "\n",
       "    .dataframe thead th {\n",
       "        text-align: right;\n",
       "    }\n",
       "</style>\n",
       "<table border=\"1\" class=\"dataframe\">\n",
       "  <thead>\n",
       "    <tr style=\"text-align: right;\">\n",
       "      <th></th>\n",
       "      <th>num_expediente</th>\n",
       "      <th>fecha</th>\n",
       "      <th>hora</th>\n",
       "      <th>localizacion</th>\n",
       "      <th>numero</th>\n",
       "      <th>cod_distrito</th>\n",
       "      <th>distrito</th>\n",
       "      <th>tipo_accidente</th>\n",
       "      <th>estado_meteorológico</th>\n",
       "      <th>tipo_vehiculo</th>\n",
       "      <th>...</th>\n",
       "      <th>rango_edad</th>\n",
       "      <th>sexo</th>\n",
       "      <th>cod_lesividad</th>\n",
       "      <th>lesividad</th>\n",
       "      <th>coordenada_x_utm</th>\n",
       "      <th>coordenada_y_utm</th>\n",
       "      <th>positiva_alcohol</th>\n",
       "      <th>positiva_droga</th>\n",
       "      <th>Unnamed: 19</th>\n",
       "      <th>Unnamed: 20</th>\n",
       "    </tr>\n",
       "  </thead>\n",
       "  <tbody>\n",
       "    <tr>\n",
       "      <th>0</th>\n",
       "      <td>2018S017842</td>\n",
       "      <td>04/02/2019</td>\n",
       "      <td>9:10:00</td>\n",
       "      <td>CALL. ALBERTO AGUILERA, 1</td>\n",
       "      <td>1</td>\n",
       "      <td>1.0</td>\n",
       "      <td>CENTRO</td>\n",
       "      <td>Colisión lateral</td>\n",
       "      <td>Despejado</td>\n",
       "      <td>Motocicleta &gt; 125cc</td>\n",
       "      <td>...</td>\n",
       "      <td>De 45 a 49 años</td>\n",
       "      <td>Hombre</td>\n",
       "      <td>7.0</td>\n",
       "      <td>Asistencia sanitaria sólo en el lugar del acci...</td>\n",
       "      <td>440068,049</td>\n",
       "      <td>4475679,17</td>\n",
       "      <td>N</td>\n",
       "      <td>NaN</td>\n",
       "      <td>NaN</td>\n",
       "      <td>NaN</td>\n",
       "    </tr>\n",
       "    <tr>\n",
       "      <th>1</th>\n",
       "      <td>2018S017842</td>\n",
       "      <td>04/02/2019</td>\n",
       "      <td>9:10:00</td>\n",
       "      <td>CALL. ALBERTO AGUILERA, 1</td>\n",
       "      <td>1</td>\n",
       "      <td>1.0</td>\n",
       "      <td>CENTRO</td>\n",
       "      <td>Colisión lateral</td>\n",
       "      <td>Despejado</td>\n",
       "      <td>Turismo</td>\n",
       "      <td>...</td>\n",
       "      <td>De 30 a 34 años</td>\n",
       "      <td>Mujer</td>\n",
       "      <td>7.0</td>\n",
       "      <td>Asistencia sanitaria sólo en el lugar del acci...</td>\n",
       "      <td>440068,049</td>\n",
       "      <td>4475679,17</td>\n",
       "      <td>N</td>\n",
       "      <td>NaN</td>\n",
       "      <td>NaN</td>\n",
       "      <td>NaN</td>\n",
       "    </tr>\n",
       "    <tr>\n",
       "      <th>2</th>\n",
       "      <td>2019S000001</td>\n",
       "      <td>01/01/2019</td>\n",
       "      <td>3:45:00</td>\n",
       "      <td>PASEO. SANTA MARIA DE LA CABEZA / PLAZA. ELIPTICA</td>\n",
       "      <td>168</td>\n",
       "      <td>11.0</td>\n",
       "      <td>CARABANCHEL</td>\n",
       "      <td>Alcance</td>\n",
       "      <td>NaN</td>\n",
       "      <td>Furgoneta</td>\n",
       "      <td>...</td>\n",
       "      <td>De 40 a 44 años</td>\n",
       "      <td>Hombre</td>\n",
       "      <td>NaN</td>\n",
       "      <td>NaN</td>\n",
       "      <td>439139,603</td>\n",
       "      <td>4470836,854</td>\n",
       "      <td>S</td>\n",
       "      <td>NaN</td>\n",
       "      <td>NaN</td>\n",
       "      <td>NaN</td>\n",
       "    </tr>\n",
       "    <tr>\n",
       "      <th>3</th>\n",
       "      <td>2019S000001</td>\n",
       "      <td>01/01/2019</td>\n",
       "      <td>3:45:00</td>\n",
       "      <td>PASEO. SANTA MARIA DE LA CABEZA / PLAZA. ELIPTICA</td>\n",
       "      <td>168</td>\n",
       "      <td>11.0</td>\n",
       "      <td>CARABANCHEL</td>\n",
       "      <td>Alcance</td>\n",
       "      <td>NaN</td>\n",
       "      <td>Turismo</td>\n",
       "      <td>...</td>\n",
       "      <td>De 40 a 44 años</td>\n",
       "      <td>Mujer</td>\n",
       "      <td>NaN</td>\n",
       "      <td>NaN</td>\n",
       "      <td>439139,603</td>\n",
       "      <td>4470836,854</td>\n",
       "      <td>N</td>\n",
       "      <td>NaN</td>\n",
       "      <td>NaN</td>\n",
       "      <td>NaN</td>\n",
       "    </tr>\n",
       "    <tr>\n",
       "      <th>4</th>\n",
       "      <td>2019S000001</td>\n",
       "      <td>01/01/2019</td>\n",
       "      <td>3:45:00</td>\n",
       "      <td>PASEO. SANTA MARIA DE LA CABEZA / PLAZA. ELIPTICA</td>\n",
       "      <td>168</td>\n",
       "      <td>11.0</td>\n",
       "      <td>CARABANCHEL</td>\n",
       "      <td>Alcance</td>\n",
       "      <td>NaN</td>\n",
       "      <td>Turismo</td>\n",
       "      <td>...</td>\n",
       "      <td>De 45 a 49 años</td>\n",
       "      <td>Mujer</td>\n",
       "      <td>NaN</td>\n",
       "      <td>NaN</td>\n",
       "      <td>439139,603</td>\n",
       "      <td>4470836,854</td>\n",
       "      <td>N</td>\n",
       "      <td>NaN</td>\n",
       "      <td>NaN</td>\n",
       "      <td>NaN</td>\n",
       "    </tr>\n",
       "  </tbody>\n",
       "</table>\n",
       "<p>5 rows × 21 columns</p>\n",
       "</div>"
      ],
      "text/plain": [
       "  num_expediente       fecha     hora  \\\n",
       "0    2018S017842  04/02/2019  9:10:00   \n",
       "1    2018S017842  04/02/2019  9:10:00   \n",
       "2    2019S000001  01/01/2019  3:45:00   \n",
       "3    2019S000001  01/01/2019  3:45:00   \n",
       "4    2019S000001  01/01/2019  3:45:00   \n",
       "\n",
       "                                        localizacion numero  cod_distrito  \\\n",
       "0                          CALL. ALBERTO AGUILERA, 1      1           1.0   \n",
       "1                          CALL. ALBERTO AGUILERA, 1      1           1.0   \n",
       "2  PASEO. SANTA MARIA DE LA CABEZA / PLAZA. ELIPTICA    168          11.0   \n",
       "3  PASEO. SANTA MARIA DE LA CABEZA / PLAZA. ELIPTICA    168          11.0   \n",
       "4  PASEO. SANTA MARIA DE LA CABEZA / PLAZA. ELIPTICA    168          11.0   \n",
       "\n",
       "      distrito    tipo_accidente estado_meteorológico        tipo_vehiculo  \\\n",
       "0       CENTRO  Colisión lateral            Despejado  Motocicleta > 125cc   \n",
       "1       CENTRO  Colisión lateral            Despejado              Turismo   \n",
       "2  CARABANCHEL           Alcance                  NaN            Furgoneta   \n",
       "3  CARABANCHEL           Alcance                  NaN              Turismo   \n",
       "4  CARABANCHEL           Alcance                  NaN              Turismo   \n",
       "\n",
       "   ...       rango_edad    sexo cod_lesividad  \\\n",
       "0  ...  De 45 a 49 años  Hombre           7.0   \n",
       "1  ...  De 30 a 34 años   Mujer           7.0   \n",
       "2  ...  De 40 a 44 años  Hombre           NaN   \n",
       "3  ...  De 40 a 44 años   Mujer           NaN   \n",
       "4  ...  De 45 a 49 años   Mujer           NaN   \n",
       "\n",
       "                                           lesividad coordenada_x_utm  \\\n",
       "0  Asistencia sanitaria sólo en el lugar del acci...       440068,049   \n",
       "1  Asistencia sanitaria sólo en el lugar del acci...       440068,049   \n",
       "2                                                NaN       439139,603   \n",
       "3                                                NaN       439139,603   \n",
       "4                                                NaN       439139,603   \n",
       "\n",
       "  coordenada_y_utm positiva_alcohol positiva_droga  Unnamed: 19  Unnamed: 20  \n",
       "0       4475679,17                N            NaN          NaN          NaN  \n",
       "1       4475679,17                N            NaN          NaN          NaN  \n",
       "2      4470836,854                S            NaN          NaN          NaN  \n",
       "3      4470836,854                N            NaN          NaN          NaN  \n",
       "4      4470836,854                N            NaN          NaN          NaN  \n",
       "\n",
       "[5 rows x 21 columns]"
      ]
     },
     "execution_count": 1,
     "metadata": {},
     "output_type": "execute_result"
    }
   ],
   "source": [
    "# Importamos las librerías\n",
    "\n",
    "import pandas as pd\n",
    "import glob\n",
    "\n",
    "# Creamos el dataframe donde guardaremos todos los csv\n",
    "df_list = []\n",
    "\n",
    "# Creamos una variable con la ruta y patrón de los archivos usando asterico para recoger lo que varía en los diferentes archivos\n",
    "pattern = 'C:/CSV/*Accidentalidad.csv'\n",
    "\n",
    "# Bucle para recoger todos los archivos y los vamos añadiendo a nuestro dataframe\n",
    "for file in glob.glob(pattern):\n",
    "    try:\n",
    "        df = pd.read_csv(file, encoding='utf-8', delimiter = ';')\n",
    "        df_list.append(df)\n",
    "    except Exception as e:\n",
    "        print(\"Error al leer el archivo:\", file)\n",
    "        print(\"Mensaje de error:\", str(e))\n",
    "\n",
    "# Tenemos que concatenar los csv almacenados en uno solo, ignorando los índices que pudieran existir\n",
    "df_Madrid = pd.concat(df_list, ignore_index = True)\n",
    "\n",
    "# Comprobamos las primeras 5 columnas\n",
    "df_Madrid.head()"
   ]
  },
  {
   "cell_type": "code",
   "execution_count": 2,
   "id": "8ddaab8c-4494-4a2e-b170-d3c54f645f9b",
   "metadata": {
    "extensions": {
     "jupyter_dashboards": {
      "activeView": "grid_default",
      "views": {
       "grid_default": {
        "col": null,
        "height": 2,
        "hidden": true,
        "locked": true,
        "row": null,
        "width": 2
       }
      }
     }
    },
    "tags": []
   },
   "outputs": [
    {
     "data": {
      "text/html": [
       "<div>\n",
       "<style scoped>\n",
       "    .dataframe tbody tr th:only-of-type {\n",
       "        vertical-align: middle;\n",
       "    }\n",
       "\n",
       "    .dataframe tbody tr th {\n",
       "        vertical-align: top;\n",
       "    }\n",
       "\n",
       "    .dataframe thead th {\n",
       "        text-align: right;\n",
       "    }\n",
       "</style>\n",
       "<table border=\"1\" class=\"dataframe\">\n",
       "  <thead>\n",
       "    <tr style=\"text-align: right;\">\n",
       "      <th></th>\n",
       "      <th>num_expediente</th>\n",
       "      <th>fecha</th>\n",
       "      <th>hora</th>\n",
       "      <th>localizacion</th>\n",
       "      <th>numero</th>\n",
       "      <th>cod_distrito</th>\n",
       "      <th>distrito</th>\n",
       "      <th>tipo_accidente</th>\n",
       "      <th>estado_meteorológico</th>\n",
       "      <th>tipo_vehiculo</th>\n",
       "      <th>...</th>\n",
       "      <th>rango_edad</th>\n",
       "      <th>sexo</th>\n",
       "      <th>cod_lesividad</th>\n",
       "      <th>lesividad</th>\n",
       "      <th>coordenada_x_utm</th>\n",
       "      <th>coordenada_y_utm</th>\n",
       "      <th>positiva_alcohol</th>\n",
       "      <th>positiva_droga</th>\n",
       "      <th>Unnamed: 19</th>\n",
       "      <th>Unnamed: 20</th>\n",
       "    </tr>\n",
       "  </thead>\n",
       "  <tbody>\n",
       "    <tr>\n",
       "      <th>221905</th>\n",
       "      <td>2023S040267</td>\n",
       "      <td>31/12/2023</td>\n",
       "      <td>21:15:00</td>\n",
       "      <td>AVDA. GRAN VIA DE VILLAVERDE / AVDA. ANDALUCIA</td>\n",
       "      <td>10</td>\n",
       "      <td>17.0</td>\n",
       "      <td>VILLAVERDE</td>\n",
       "      <td>Colisión fronto-lateral</td>\n",
       "      <td>Despejado</td>\n",
       "      <td>Turismo</td>\n",
       "      <td>...</td>\n",
       "      <td>De 45 a 49 años</td>\n",
       "      <td>Mujer</td>\n",
       "      <td>7.0</td>\n",
       "      <td>Asistencia sanitaria sólo en el lugar del acci...</td>\n",
       "      <td>441152.627</td>\n",
       "      <td>4466350.125</td>\n",
       "      <td>N</td>\n",
       "      <td>NaN</td>\n",
       "      <td>NaN</td>\n",
       "      <td>NaN</td>\n",
       "    </tr>\n",
       "    <tr>\n",
       "      <th>221906</th>\n",
       "      <td>2023S040267</td>\n",
       "      <td>31/12/2023</td>\n",
       "      <td>21:15:00</td>\n",
       "      <td>AVDA. GRAN VIA DE VILLAVERDE / AVDA. ANDALUCIA</td>\n",
       "      <td>10</td>\n",
       "      <td>17.0</td>\n",
       "      <td>VILLAVERDE</td>\n",
       "      <td>Colisión fronto-lateral</td>\n",
       "      <td>Despejado</td>\n",
       "      <td>Turismo</td>\n",
       "      <td>...</td>\n",
       "      <td>De 6 a 9 años</td>\n",
       "      <td>Hombre</td>\n",
       "      <td>7.0</td>\n",
       "      <td>Asistencia sanitaria sólo en el lugar del acci...</td>\n",
       "      <td>441152.627</td>\n",
       "      <td>4466350.125</td>\n",
       "      <td>N</td>\n",
       "      <td>NaN</td>\n",
       "      <td>NaN</td>\n",
       "      <td>NaN</td>\n",
       "    </tr>\n",
       "    <tr>\n",
       "      <th>221907</th>\n",
       "      <td>2023S040277</td>\n",
       "      <td>29/12/2023</td>\n",
       "      <td>9:35:00</td>\n",
       "      <td>PTA. TOLEDO, 0</td>\n",
       "      <td>0</td>\n",
       "      <td>1.0</td>\n",
       "      <td>CENTRO</td>\n",
       "      <td>Alcance</td>\n",
       "      <td>Despejado</td>\n",
       "      <td>Motocicleta hasta 125cc</td>\n",
       "      <td>...</td>\n",
       "      <td>De 45 a 49 años</td>\n",
       "      <td>Hombre</td>\n",
       "      <td>NaN</td>\n",
       "      <td>NaN</td>\n",
       "      <td>439594.878</td>\n",
       "      <td>4473163.747</td>\n",
       "      <td>N</td>\n",
       "      <td>NaN</td>\n",
       "      <td>NaN</td>\n",
       "      <td>NaN</td>\n",
       "    </tr>\n",
       "    <tr>\n",
       "      <th>221908</th>\n",
       "      <td>2023S040277</td>\n",
       "      <td>29/12/2023</td>\n",
       "      <td>9:35:00</td>\n",
       "      <td>PTA. TOLEDO, 0</td>\n",
       "      <td>0</td>\n",
       "      <td>1.0</td>\n",
       "      <td>CENTRO</td>\n",
       "      <td>Alcance</td>\n",
       "      <td>Despejado</td>\n",
       "      <td>Turismo</td>\n",
       "      <td>...</td>\n",
       "      <td>De 21 a 24 años</td>\n",
       "      <td>Hombre</td>\n",
       "      <td>NaN</td>\n",
       "      <td>NaN</td>\n",
       "      <td>439594.878</td>\n",
       "      <td>4473163.747</td>\n",
       "      <td>N</td>\n",
       "      <td>NaN</td>\n",
       "      <td>NaN</td>\n",
       "      <td>NaN</td>\n",
       "    </tr>\n",
       "    <tr>\n",
       "      <th>221909</th>\n",
       "      <td>2023S040290</td>\n",
       "      <td>29/12/2023</td>\n",
       "      <td>5:10:00</td>\n",
       "      <td>CALL. HERNANDEZ DE TEJADA / CALL. AGASTIA</td>\n",
       "      <td>2</td>\n",
       "      <td>15.0</td>\n",
       "      <td>CIUDAD LINEAL</td>\n",
       "      <td>Solo salida de la vía</td>\n",
       "      <td>Despejado</td>\n",
       "      <td>Turismo</td>\n",
       "      <td>...</td>\n",
       "      <td>De 21 a 24 años</td>\n",
       "      <td>Hombre</td>\n",
       "      <td>NaN</td>\n",
       "      <td>NaN</td>\n",
       "      <td>444544.675</td>\n",
       "      <td>4477557.087</td>\n",
       "      <td>S</td>\n",
       "      <td>NaN</td>\n",
       "      <td>NaN</td>\n",
       "      <td>NaN</td>\n",
       "    </tr>\n",
       "  </tbody>\n",
       "</table>\n",
       "<p>5 rows × 21 columns</p>\n",
       "</div>"
      ],
      "text/plain": [
       "       num_expediente       fecha      hora  \\\n",
       "221905    2023S040267  31/12/2023  21:15:00   \n",
       "221906    2023S040267  31/12/2023  21:15:00   \n",
       "221907    2023S040277  29/12/2023   9:35:00   \n",
       "221908    2023S040277  29/12/2023   9:35:00   \n",
       "221909    2023S040290  29/12/2023   5:10:00   \n",
       "\n",
       "                                          localizacion numero  cod_distrito  \\\n",
       "221905  AVDA. GRAN VIA DE VILLAVERDE / AVDA. ANDALUCIA     10          17.0   \n",
       "221906  AVDA. GRAN VIA DE VILLAVERDE / AVDA. ANDALUCIA     10          17.0   \n",
       "221907                                  PTA. TOLEDO, 0      0           1.0   \n",
       "221908                                  PTA. TOLEDO, 0      0           1.0   \n",
       "221909       CALL. HERNANDEZ DE TEJADA / CALL. AGASTIA      2          15.0   \n",
       "\n",
       "             distrito           tipo_accidente estado_meteorológico  \\\n",
       "221905     VILLAVERDE  Colisión fronto-lateral            Despejado   \n",
       "221906     VILLAVERDE  Colisión fronto-lateral            Despejado   \n",
       "221907         CENTRO                  Alcance            Despejado   \n",
       "221908         CENTRO                  Alcance            Despejado   \n",
       "221909  CIUDAD LINEAL    Solo salida de la vía            Despejado   \n",
       "\n",
       "                  tipo_vehiculo  ...       rango_edad    sexo cod_lesividad  \\\n",
       "221905                  Turismo  ...  De 45 a 49 años   Mujer           7.0   \n",
       "221906                  Turismo  ...    De 6 a 9 años  Hombre           7.0   \n",
       "221907  Motocicleta hasta 125cc  ...  De 45 a 49 años  Hombre           NaN   \n",
       "221908                  Turismo  ...  De 21 a 24 años  Hombre           NaN   \n",
       "221909                  Turismo  ...  De 21 a 24 años  Hombre           NaN   \n",
       "\n",
       "                                                lesividad coordenada_x_utm  \\\n",
       "221905  Asistencia sanitaria sólo en el lugar del acci...       441152.627   \n",
       "221906  Asistencia sanitaria sólo en el lugar del acci...       441152.627   \n",
       "221907                                                NaN       439594.878   \n",
       "221908                                                NaN       439594.878   \n",
       "221909                                                NaN       444544.675   \n",
       "\n",
       "       coordenada_y_utm positiva_alcohol positiva_droga  Unnamed: 19  \\\n",
       "221905      4466350.125                N            NaN          NaN   \n",
       "221906      4466350.125                N            NaN          NaN   \n",
       "221907      4473163.747                N            NaN          NaN   \n",
       "221908      4473163.747                N            NaN          NaN   \n",
       "221909      4477557.087                S            NaN          NaN   \n",
       "\n",
       "        Unnamed: 20  \n",
       "221905          NaN  \n",
       "221906          NaN  \n",
       "221907          NaN  \n",
       "221908          NaN  \n",
       "221909          NaN  \n",
       "\n",
       "[5 rows x 21 columns]"
      ]
     },
     "execution_count": 2,
     "metadata": {},
     "output_type": "execute_result"
    }
   ],
   "source": [
    "# Comprobamos las últimas 5 columnas\n",
    "df_Madrid.tail()"
   ]
  },
  {
   "cell_type": "code",
   "execution_count": 3,
   "id": "9dd91e62-cb81-41e1-96fb-5de67df289b2",
   "metadata": {
    "extensions": {
     "jupyter_dashboards": {
      "activeView": "grid_default",
      "views": {
       "grid_default": {
        "col": null,
        "height": 2,
        "hidden": true,
        "locked": true,
        "row": null,
        "width": 2
       }
      }
     }
    },
    "tags": []
   },
   "outputs": [
    {
     "name": "stdout",
     "output_type": "stream",
     "text": [
      "<class 'pandas.core.frame.DataFrame'>\n",
      "RangeIndex: 221910 entries, 0 to 221909\n",
      "Data columns (total 21 columns):\n",
      " #   Column                Non-Null Count   Dtype  \n",
      "---  ------                --------------   -----  \n",
      " 0   num_expediente        221910 non-null  object \n",
      " 1   fecha                 221910 non-null  object \n",
      " 2   hora                  221910 non-null  object \n",
      " 3   localizacion          221910 non-null  object \n",
      " 4   numero                221902 non-null  object \n",
      " 5   cod_distrito          221902 non-null  float64\n",
      " 6   distrito              221902 non-null  object \n",
      " 7   tipo_accidente        221906 non-null  object \n",
      " 8   estado_meteorológico  198163 non-null  object \n",
      " 9   tipo_vehiculo         220966 non-null  object \n",
      " 10  tipo_persona          221907 non-null  object \n",
      " 11  rango_edad            221910 non-null  object \n",
      " 12  sexo                  221910 non-null  object \n",
      " 13  cod_lesividad         121342 non-null  float64\n",
      " 14  lesividad             121342 non-null  object \n",
      " 15  coordenada_x_utm      221902 non-null  object \n",
      " 16  coordenada_y_utm      221902 non-null  object \n",
      " 17  positiva_alcohol      221128 non-null  object \n",
      " 18  positiva_droga        688 non-null     float64\n",
      " 19  Unnamed: 19           0 non-null       float64\n",
      " 20  Unnamed: 20           0 non-null       float64\n",
      "dtypes: float64(5), object(16)\n",
      "memory usage: 35.6+ MB\n"
     ]
    }
   ],
   "source": [
    "# También podemos inspeccionar un poco la tabla con el método .info()\n",
    "df_Madrid.info()"
   ]
  },
  {
   "cell_type": "markdown",
   "id": "0a7a4c3c-ab7a-4fbe-87af-965251502ed9",
   "metadata": {
    "extensions": {
     "jupyter_dashboards": {
      "activeView": "grid_default",
      "views": {
       "grid_default": {
        "col": null,
        "height": 2,
        "hidden": true,
        "locked": true,
        "row": null,
        "width": 2
       }
      }
     }
    },
    "tags": []
   },
   "source": [
    "## Eliminación de columnas."
   ]
  },
  {
   "cell_type": "code",
   "execution_count": 4,
   "id": "75ca0c04-37d3-4e0d-8d36-e4443c1e21e0",
   "metadata": {
    "extensions": {
     "jupyter_dashboards": {
      "activeView": "grid_default",
      "views": {
       "grid_default": {
        "col": null,
        "height": 2,
        "hidden": true,
        "locked": true,
        "row": null,
        "width": 2
       }
      }
     }
    },
    "tags": []
   },
   "outputs": [],
   "source": [
    "# Procedemos a borrar las columnas\n",
    "df_Madrid.drop(columns=['num_expediente', 'Unnamed: 19', 'Unnamed: 20','cod_distrito','sexo','numero','lesividad'], inplace=True)"
   ]
  },
  {
   "cell_type": "code",
   "execution_count": 5,
   "id": "bb705a6c-71a2-486b-90a7-0436e045ec9c",
   "metadata": {
    "extensions": {
     "jupyter_dashboards": {
      "activeView": "grid_default",
      "views": {
       "grid_default": {
        "col": null,
        "height": 2,
        "hidden": true,
        "locked": true,
        "row": null,
        "width": 2
       }
      }
     }
    },
    "tags": []
   },
   "outputs": [
    {
     "name": "stdout",
     "output_type": "stream",
     "text": [
      "<class 'pandas.core.frame.DataFrame'>\n",
      "RangeIndex: 221910 entries, 0 to 221909\n",
      "Data columns (total 14 columns):\n",
      " #   Column                Non-Null Count   Dtype  \n",
      "---  ------                --------------   -----  \n",
      " 0   fecha                 221910 non-null  object \n",
      " 1   hora                  221910 non-null  object \n",
      " 2   localizacion          221910 non-null  object \n",
      " 3   distrito              221902 non-null  object \n",
      " 4   tipo_accidente        221906 non-null  object \n",
      " 5   estado_meteorológico  198163 non-null  object \n",
      " 6   tipo_vehiculo         220966 non-null  object \n",
      " 7   tipo_persona          221907 non-null  object \n",
      " 8   rango_edad            221910 non-null  object \n",
      " 9   cod_lesividad         121342 non-null  float64\n",
      " 10  coordenada_x_utm      221902 non-null  object \n",
      " 11  coordenada_y_utm      221902 non-null  object \n",
      " 12  positiva_alcohol      221128 non-null  object \n",
      " 13  positiva_droga        688 non-null     float64\n",
      "dtypes: float64(2), object(12)\n",
      "memory usage: 23.7+ MB\n"
     ]
    }
   ],
   "source": [
    "# Comprobamos\n",
    "df_Madrid.info()"
   ]
  },
  {
   "cell_type": "markdown",
   "id": "ca6c7887-27d7-43ae-b0bc-6d7bd104b141",
   "metadata": {
    "extensions": {
     "jupyter_dashboards": {
      "activeView": "grid_default",
      "views": {
       "grid_default": {
        "col": null,
        "height": 2,
        "hidden": true,
        "locked": true,
        "row": null,
        "width": 2
       }
      }
     }
    }
   },
   "source": [
    "## Limpieza de datos (Null / NaN)."
   ]
  },
  {
   "cell_type": "code",
   "execution_count": 6,
   "id": "15a152e4-6e67-469e-99f2-eeb152dc37e9",
   "metadata": {
    "extensions": {
     "jupyter_dashboards": {
      "activeView": "grid_default",
      "views": {
       "grid_default": {
        "col": null,
        "height": 2,
        "hidden": true,
        "locked": true,
        "row": null,
        "width": 2
       }
      }
     }
    },
    "tags": []
   },
   "outputs": [
    {
     "data": {
      "text/plain": [
       "fecha                        0\n",
       "hora                         0\n",
       "localizacion                 0\n",
       "distrito                     8\n",
       "tipo_accidente               4\n",
       "estado_meteorológico     23747\n",
       "tipo_vehiculo              944\n",
       "tipo_persona                 3\n",
       "rango_edad                   0\n",
       "cod_lesividad           100568\n",
       "coordenada_x_utm             8\n",
       "coordenada_y_utm             8\n",
       "positiva_alcohol           782\n",
       "positiva_droga          221222\n",
       "dtype: int64"
      ]
     },
     "execution_count": 6,
     "metadata": {},
     "output_type": "execute_result"
    }
   ],
   "source": [
    "# Observamos también que hay columnas donde hay columnas con nulls o NaN, todas las que no tienen 221.910\n",
    "# Comprobamos que columnas tienen null o NaN y su cuenta\n",
    "df_Madrid.isnull().sum()"
   ]
  },
  {
   "cell_type": "code",
   "execution_count": 7,
   "id": "481cad81-b3e8-4981-ac6a-83452255d218",
   "metadata": {
    "extensions": {
     "jupyter_dashboards": {
      "activeView": "grid_default",
      "views": {
       "grid_default": {
        "col": null,
        "height": 2,
        "hidden": true,
        "locked": true,
        "row": null,
        "width": 2
       }
      }
     }
    },
    "tags": []
   },
   "outputs": [],
   "source": [
    "# Comprobamos las filas con NaN en la columna 'numero' y coinciden con la de cod_distrito y distrito\n",
    "# df_Madrid[df_Madrid['numero'].isna()]"
   ]
  },
  {
   "cell_type": "code",
   "execution_count": 8,
   "id": "da7027b7-c5ec-4d91-8303-7f513c8bf58f",
   "metadata": {
    "extensions": {
     "jupyter_dashboards": {
      "activeView": "grid_default",
      "views": {
       "grid_default": {
        "col": null,
        "height": 2,
        "hidden": true,
        "locked": true,
        "row": null,
        "width": 2
       }
      }
     }
    },
    "tags": []
   },
   "outputs": [
    {
     "data": {
      "text/html": [
       "<div>\n",
       "<style scoped>\n",
       "    .dataframe tbody tr th:only-of-type {\n",
       "        vertical-align: middle;\n",
       "    }\n",
       "\n",
       "    .dataframe tbody tr th {\n",
       "        vertical-align: top;\n",
       "    }\n",
       "\n",
       "    .dataframe thead th {\n",
       "        text-align: right;\n",
       "    }\n",
       "</style>\n",
       "<table border=\"1\" class=\"dataframe\">\n",
       "  <thead>\n",
       "    <tr style=\"text-align: right;\">\n",
       "      <th></th>\n",
       "      <th>fecha</th>\n",
       "      <th>hora</th>\n",
       "      <th>localizacion</th>\n",
       "      <th>distrito</th>\n",
       "      <th>tipo_accidente</th>\n",
       "      <th>estado_meteorológico</th>\n",
       "      <th>tipo_vehiculo</th>\n",
       "      <th>tipo_persona</th>\n",
       "      <th>rango_edad</th>\n",
       "      <th>cod_lesividad</th>\n",
       "      <th>coordenada_x_utm</th>\n",
       "      <th>coordenada_y_utm</th>\n",
       "      <th>positiva_alcohol</th>\n",
       "      <th>positiva_droga</th>\n",
       "    </tr>\n",
       "  </thead>\n",
       "  <tbody>\n",
       "    <tr>\n",
       "      <th>79446</th>\n",
       "      <td>23/11/2020</td>\n",
       "      <td>7:45:00</td>\n",
       "      <td>AUTOV. M-23, 0 (0.8 ENTRADA)</td>\n",
       "      <td>NaN</td>\n",
       "      <td>Colisión lateral</td>\n",
       "      <td>Despejado</td>\n",
       "      <td>Turismo</td>\n",
       "      <td>Conductor</td>\n",
       "      <td>De 50 a 54 años</td>\n",
       "      <td>7.0</td>\n",
       "      <td>444975,42</td>\n",
       "      <td>4474103,079</td>\n",
       "      <td>N</td>\n",
       "      <td>NaN</td>\n",
       "    </tr>\n",
       "    <tr>\n",
       "      <th>79447</th>\n",
       "      <td>23/11/2020</td>\n",
       "      <td>7:45:00</td>\n",
       "      <td>AUTOV. M-23, 0 (0.8 ENTRADA)</td>\n",
       "      <td>NaN</td>\n",
       "      <td>Colisión lateral</td>\n",
       "      <td>Despejado</td>\n",
       "      <td>Turismo</td>\n",
       "      <td>Conductor</td>\n",
       "      <td>De 50 a 54 años</td>\n",
       "      <td>14.0</td>\n",
       "      <td>444975,42</td>\n",
       "      <td>4474103,079</td>\n",
       "      <td>N</td>\n",
       "      <td>NaN</td>\n",
       "    </tr>\n",
       "    <tr>\n",
       "      <th>109988</th>\n",
       "      <td>11/09/2021</td>\n",
       "      <td>19:40:00</td>\n",
       "      <td>AUTOV. M-500 / AUTOV. M-30</td>\n",
       "      <td>NaN</td>\n",
       "      <td>Colisión fronto-lateral</td>\n",
       "      <td>Despejado</td>\n",
       "      <td>Turismo</td>\n",
       "      <td>Conductor</td>\n",
       "      <td>De 25 a 29 años</td>\n",
       "      <td>NaN</td>\n",
       "      <td>437390,155</td>\n",
       "      <td>4476258,031</td>\n",
       "      <td>N</td>\n",
       "      <td>NaN</td>\n",
       "    </tr>\n",
       "    <tr>\n",
       "      <th>109989</th>\n",
       "      <td>11/09/2021</td>\n",
       "      <td>19:40:00</td>\n",
       "      <td>AUTOV. M-500 / AUTOV. M-30</td>\n",
       "      <td>NaN</td>\n",
       "      <td>Colisión fronto-lateral</td>\n",
       "      <td>Despejado</td>\n",
       "      <td>Turismo</td>\n",
       "      <td>Conductor</td>\n",
       "      <td>De 55 a 59 años</td>\n",
       "      <td>NaN</td>\n",
       "      <td>437390,155</td>\n",
       "      <td>4476258,031</td>\n",
       "      <td>N</td>\n",
       "      <td>NaN</td>\n",
       "    </tr>\n",
       "    <tr>\n",
       "      <th>109990</th>\n",
       "      <td>11/09/2021</td>\n",
       "      <td>19:40:00</td>\n",
       "      <td>AUTOV. M-500 / AUTOV. M-30</td>\n",
       "      <td>NaN</td>\n",
       "      <td>Colisión fronto-lateral</td>\n",
       "      <td>Despejado</td>\n",
       "      <td>Turismo</td>\n",
       "      <td>Pasajero</td>\n",
       "      <td>De 55 a 59 años</td>\n",
       "      <td>14.0</td>\n",
       "      <td>437390,155</td>\n",
       "      <td>4476258,031</td>\n",
       "      <td>N</td>\n",
       "      <td>NaN</td>\n",
       "    </tr>\n",
       "    <tr>\n",
       "      <th>183190</th>\n",
       "      <td>16/03/2023</td>\n",
       "      <td>22:40:00</td>\n",
       "      <td>GTA. ISIDRO GONZALEZ VELAZQUEZ / CALL. FRANCIS...</td>\n",
       "      <td>NaN</td>\n",
       "      <td>Choque contra obstáculo fijo</td>\n",
       "      <td>Despejado</td>\n",
       "      <td>Turismo</td>\n",
       "      <td>Conductor</td>\n",
       "      <td>De 45 a 49 años</td>\n",
       "      <td>NaN</td>\n",
       "      <td>446979.419</td>\n",
       "      <td>4481398.946</td>\n",
       "      <td>N</td>\n",
       "      <td>NaN</td>\n",
       "    </tr>\n",
       "    <tr>\n",
       "      <th>211319</th>\n",
       "      <td>21/10/2023</td>\n",
       "      <td>0:40:00</td>\n",
       "      <td>VILLAVERDE A VALLECAS (FAROLA 11)</td>\n",
       "      <td>NaN</td>\n",
       "      <td>Alcance</td>\n",
       "      <td>Despejado</td>\n",
       "      <td>Turismo</td>\n",
       "      <td>Conductor</td>\n",
       "      <td>De 25 a 29 años</td>\n",
       "      <td>14.0</td>\n",
       "      <td>441291.089</td>\n",
       "      <td>4467125.159</td>\n",
       "      <td>N</td>\n",
       "      <td>NaN</td>\n",
       "    </tr>\n",
       "    <tr>\n",
       "      <th>211320</th>\n",
       "      <td>21/10/2023</td>\n",
       "      <td>0:40:00</td>\n",
       "      <td>VILLAVERDE A VALLECAS (FAROLA 11)</td>\n",
       "      <td>NaN</td>\n",
       "      <td>Alcance</td>\n",
       "      <td>Despejado</td>\n",
       "      <td>VMU eléctrico</td>\n",
       "      <td>Conductor</td>\n",
       "      <td>De 18 a 20 años</td>\n",
       "      <td>3.0</td>\n",
       "      <td>441291.089</td>\n",
       "      <td>4467125.159</td>\n",
       "      <td>N</td>\n",
       "      <td>NaN</td>\n",
       "    </tr>\n",
       "  </tbody>\n",
       "</table>\n",
       "</div>"
      ],
      "text/plain": [
       "             fecha      hora  \\\n",
       "79446   23/11/2020   7:45:00   \n",
       "79447   23/11/2020   7:45:00   \n",
       "109988  11/09/2021  19:40:00   \n",
       "109989  11/09/2021  19:40:00   \n",
       "109990  11/09/2021  19:40:00   \n",
       "183190  16/03/2023  22:40:00   \n",
       "211319  21/10/2023   0:40:00   \n",
       "211320  21/10/2023   0:40:00   \n",
       "\n",
       "                                             localizacion distrito  \\\n",
       "79446                        AUTOV. M-23, 0 (0.8 ENTRADA)      NaN   \n",
       "79447                        AUTOV. M-23, 0 (0.8 ENTRADA)      NaN   \n",
       "109988                         AUTOV. M-500 / AUTOV. M-30      NaN   \n",
       "109989                         AUTOV. M-500 / AUTOV. M-30      NaN   \n",
       "109990                         AUTOV. M-500 / AUTOV. M-30      NaN   \n",
       "183190  GTA. ISIDRO GONZALEZ VELAZQUEZ / CALL. FRANCIS...      NaN   \n",
       "211319                  VILLAVERDE A VALLECAS (FAROLA 11)      NaN   \n",
       "211320                  VILLAVERDE A VALLECAS (FAROLA 11)      NaN   \n",
       "\n",
       "                      tipo_accidente estado_meteorológico  tipo_vehiculo  \\\n",
       "79446               Colisión lateral            Despejado        Turismo   \n",
       "79447               Colisión lateral            Despejado        Turismo   \n",
       "109988       Colisión fronto-lateral            Despejado        Turismo   \n",
       "109989       Colisión fronto-lateral            Despejado        Turismo   \n",
       "109990       Colisión fronto-lateral            Despejado        Turismo   \n",
       "183190  Choque contra obstáculo fijo            Despejado        Turismo   \n",
       "211319                       Alcance            Despejado        Turismo   \n",
       "211320                       Alcance            Despejado  VMU eléctrico   \n",
       "\n",
       "       tipo_persona       rango_edad  cod_lesividad coordenada_x_utm  \\\n",
       "79446     Conductor  De 50 a 54 años            7.0        444975,42   \n",
       "79447     Conductor  De 50 a 54 años           14.0        444975,42   \n",
       "109988    Conductor  De 25 a 29 años            NaN       437390,155   \n",
       "109989    Conductor  De 55 a 59 años            NaN       437390,155   \n",
       "109990     Pasajero  De 55 a 59 años           14.0       437390,155   \n",
       "183190    Conductor  De 45 a 49 años            NaN       446979.419   \n",
       "211319    Conductor  De 25 a 29 años           14.0       441291.089   \n",
       "211320    Conductor  De 18 a 20 años            3.0       441291.089   \n",
       "\n",
       "       coordenada_y_utm positiva_alcohol  positiva_droga  \n",
       "79446       4474103,079                N             NaN  \n",
       "79447       4474103,079                N             NaN  \n",
       "109988      4476258,031                N             NaN  \n",
       "109989      4476258,031                N             NaN  \n",
       "109990      4476258,031                N             NaN  \n",
       "183190      4481398.946                N             NaN  \n",
       "211319      4467125.159                N             NaN  \n",
       "211320      4467125.159                N             NaN  "
      ]
     },
     "execution_count": 8,
     "metadata": {},
     "output_type": "execute_result"
    }
   ],
   "source": [
    "df_Madrid[df_Madrid['distrito'].isna()]"
   ]
  },
  {
   "cell_type": "markdown",
   "id": "390be648-24b8-4a5c-a7e9-c9f7b85334d8",
   "metadata": {
    "extensions": {
     "jupyter_dashboards": {
      "activeView": "grid_default",
      "views": {
       "grid_default": {
        "col": null,
        "height": 2,
        "hidden": true,
        "locked": true,
        "row": null,
        "width": 2
       }
      }
     }
    }
   },
   "source": [
    "Tanto 79446 y 79447 sería el distrito de Moratalaz.\n",
    "109988, 109989 y 109990 serían el distrito de Moncloa-Aravaca\n",
    "183190 es el distrito de Hortaleza\n",
    "211319 y 211320 serían el distrito de Villaverde"
   ]
  },
  {
   "cell_type": "code",
   "execution_count": 9,
   "id": "a35f72dc-f49a-4cf2-9288-848e543b0bd7",
   "metadata": {
    "extensions": {
     "jupyter_dashboards": {
      "activeView": "grid_default",
      "views": {
       "grid_default": {
        "col": null,
        "height": 2,
        "hidden": true,
        "locked": true,
        "row": null,
        "width": 2
       }
      }
     }
    },
    "tags": []
   },
   "outputs": [],
   "source": [
    "# Cambiamos las entradas NaN por los valores encontrados\n",
    "df_Madrid.at[79446, 'distrito'] = 'MORATALAZ'\n",
    "df_Madrid.at[79447, 'distrito'] = 'MORATALAZ'\n",
    "df_Madrid.at[109988, 'distrito'] = 'MONCLOA-ARAVACA'\n",
    "df_Madrid.at[109989, 'distrito'] = 'MONCLOA-ARAVACA'\n",
    "df_Madrid.at[109990, 'distrito'] = 'MONCLOA-ARAVACA'\n",
    "df_Madrid.at[183190, 'distrito'] = 'HORTALEZA'\n",
    "df_Madrid.at[211319, 'distrito'] = 'VILLAVERDE'\n",
    "df_Madrid.at[211320, 'distrito'] = 'VILLAVERDE'"
   ]
  },
  {
   "cell_type": "code",
   "execution_count": 10,
   "id": "9d466cd8-770f-48c0-be87-3b7958e8614f",
   "metadata": {
    "extensions": {
     "jupyter_dashboards": {
      "activeView": "grid_default",
      "views": {
       "grid_default": {
        "col": null,
        "height": 2,
        "hidden": true,
        "locked": true,
        "row": null,
        "width": 2
       }
      }
     }
    },
    "tags": []
   },
   "outputs": [
    {
     "name": "stderr",
     "output_type": "stream",
     "text": [
      "C:\\Users\\Sixtorz\\AppData\\Local\\Temp\\ipykernel_6080\\2160510135.py:2: FutureWarning: A value is trying to be set on a copy of a DataFrame or Series through chained assignment using an inplace method.\n",
      "The behavior will change in pandas 3.0. This inplace method will never work because the intermediate object on which we are setting values always behaves as a copy.\n",
      "\n",
      "For example, when doing 'df[col].method(value, inplace=True)', try using 'df.method({col: value}, inplace=True)' or df[col] = df[col].method(value) instead, to perform the operation inplace on the original object.\n",
      "\n",
      "\n",
      "  df_Madrid['estado_meteorológico'].fillna('Desconocido', inplace=True)\n",
      "C:\\Users\\Sixtorz\\AppData\\Local\\Temp\\ipykernel_6080\\2160510135.py:5: FutureWarning: A value is trying to be set on a copy of a DataFrame or Series through chained assignment using an inplace method.\n",
      "The behavior will change in pandas 3.0. This inplace method will never work because the intermediate object on which we are setting values always behaves as a copy.\n",
      "\n",
      "For example, when doing 'df[col].method(value, inplace=True)', try using 'df.method({col: value}, inplace=True)' or df[col] = df[col].method(value) instead, to perform the operation inplace on the original object.\n",
      "\n",
      "\n",
      "  df_Madrid['tipo_vehiculo'].fillna('Desconocido', inplace=True)\n",
      "C:\\Users\\Sixtorz\\AppData\\Local\\Temp\\ipykernel_6080\\2160510135.py:8: FutureWarning: A value is trying to be set on a copy of a DataFrame or Series through chained assignment using an inplace method.\n",
      "The behavior will change in pandas 3.0. This inplace method will never work because the intermediate object on which we are setting values always behaves as a copy.\n",
      "\n",
      "For example, when doing 'df[col].method(value, inplace=True)', try using 'df.method({col: value}, inplace=True)' or df[col] = df[col].method(value) instead, to perform the operation inplace on the original object.\n",
      "\n",
      "\n",
      "  df_Madrid['tipo_persona'].fillna('Desconocido', inplace=True)\n",
      "C:\\Users\\Sixtorz\\AppData\\Local\\Temp\\ipykernel_6080\\2160510135.py:11: FutureWarning: A value is trying to be set on a copy of a DataFrame or Series through chained assignment using an inplace method.\n",
      "The behavior will change in pandas 3.0. This inplace method will never work because the intermediate object on which we are setting values always behaves as a copy.\n",
      "\n",
      "For example, when doing 'df[col].method(value, inplace=True)', try using 'df.method({col: value}, inplace=True)' or df[col] = df[col].method(value) instead, to perform the operation inplace on the original object.\n",
      "\n",
      "\n",
      "  df_Madrid['cod_lesividad'].fillna(77, inplace=True)\n",
      "C:\\Users\\Sixtorz\\AppData\\Local\\Temp\\ipykernel_6080\\2160510135.py:14: FutureWarning: A value is trying to be set on a copy of a DataFrame or Series through chained assignment using an inplace method.\n",
      "The behavior will change in pandas 3.0. This inplace method will never work because the intermediate object on which we are setting values always behaves as a copy.\n",
      "\n",
      "For example, when doing 'df[col].method(value, inplace=True)', try using 'df.method({col: value}, inplace=True)' or df[col] = df[col].method(value) instead, to perform the operation inplace on the original object.\n",
      "\n",
      "\n",
      "  df_Madrid['tipo_accidente'].fillna('Desconocido', inplace=True)\n",
      "C:\\Users\\Sixtorz\\AppData\\Local\\Temp\\ipykernel_6080\\2160510135.py:17: FutureWarning: A value is trying to be set on a copy of a DataFrame or Series through chained assignment using an inplace method.\n",
      "The behavior will change in pandas 3.0. This inplace method will never work because the intermediate object on which we are setting values always behaves as a copy.\n",
      "\n",
      "For example, when doing 'df[col].method(value, inplace=True)', try using 'df.method({col: value}, inplace=True)' or df[col] = df[col].method(value) instead, to perform the operation inplace on the original object.\n",
      "\n",
      "\n",
      "  df_Madrid['positiva_alcohol'].fillna('N', inplace=True)\n",
      "C:\\Users\\Sixtorz\\AppData\\Local\\Temp\\ipykernel_6080\\2160510135.py:20: FutureWarning: A value is trying to be set on a copy of a DataFrame or Series through chained assignment using an inplace method.\n",
      "The behavior will change in pandas 3.0. This inplace method will never work because the intermediate object on which we are setting values always behaves as a copy.\n",
      "\n",
      "For example, when doing 'df[col].method(value, inplace=True)', try using 'df.method({col: value}, inplace=True)' or df[col] = df[col].method(value) instead, to perform the operation inplace on the original object.\n",
      "\n",
      "\n",
      "  df_Madrid['positiva_droga'].fillna(0.0, inplace=True)\n"
     ]
    }
   ],
   "source": [
    "# Cambiamos los NaN de la columna 'estado_meteorológico' por 'Desconocido'\n",
    "df_Madrid['estado_meteorológico'].fillna('Desconocido', inplace=True)\n",
    "\n",
    "# Cambiamos los NaN de la columna 'tipo_vehiculo' por 'Desconocido'\n",
    "df_Madrid['tipo_vehiculo'].fillna('Desconocido', inplace=True)\n",
    "\n",
    "# Cambiamos los NaN de la columna 'tipo_persona' por 'Desconocido'\n",
    "df_Madrid['tipo_persona'].fillna('Desconocido', inplace=True)\n",
    "\n",
    "# Cambiamos los NaN de la columna 'cod_lesividad' por 77 (desconocido)\n",
    "df_Madrid['cod_lesividad'].fillna(77, inplace=True)\n",
    "\n",
    "# Cambiamos los NaN de la columna 'tipo_accidente' por 'Desconocido'\n",
    "df_Madrid['tipo_accidente'].fillna('Desconocido', inplace=True)\n",
    "\n",
    "# Cambiamos los NaN de la columna 'positiva_alcohol' por 'N'\n",
    "df_Madrid['positiva_alcohol'].fillna('N', inplace=True)\n",
    "\n",
    "# Cambiamos los NaN de la columna 'positiva_droga' por 0\n",
    "df_Madrid['positiva_droga'].fillna(0.0, inplace=True)"
   ]
  },
  {
   "cell_type": "code",
   "execution_count": 11,
   "id": "f224d270-d44c-4856-89b1-74a4b9c69648",
   "metadata": {
    "extensions": {
     "jupyter_dashboards": {
      "activeView": "grid_default",
      "views": {
       "grid_default": {
        "col": null,
        "height": 2,
        "hidden": true,
        "locked": true,
        "row": null,
        "width": 2
       }
      }
     }
    }
   },
   "outputs": [
    {
     "data": {
      "text/html": [
       "<div>\n",
       "<style scoped>\n",
       "    .dataframe tbody tr th:only-of-type {\n",
       "        vertical-align: middle;\n",
       "    }\n",
       "\n",
       "    .dataframe tbody tr th {\n",
       "        vertical-align: top;\n",
       "    }\n",
       "\n",
       "    .dataframe thead th {\n",
       "        text-align: right;\n",
       "    }\n",
       "</style>\n",
       "<table border=\"1\" class=\"dataframe\">\n",
       "  <thead>\n",
       "    <tr style=\"text-align: right;\">\n",
       "      <th></th>\n",
       "      <th>fecha</th>\n",
       "      <th>hora</th>\n",
       "      <th>localizacion</th>\n",
       "      <th>distrito</th>\n",
       "      <th>tipo_accidente</th>\n",
       "      <th>estado_meteorológico</th>\n",
       "      <th>tipo_vehiculo</th>\n",
       "      <th>tipo_persona</th>\n",
       "      <th>rango_edad</th>\n",
       "      <th>cod_lesividad</th>\n",
       "      <th>coordenada_x_utm</th>\n",
       "      <th>coordenada_y_utm</th>\n",
       "      <th>positiva_alcohol</th>\n",
       "      <th>positiva_droga</th>\n",
       "    </tr>\n",
       "  </thead>\n",
       "  <tbody>\n",
       "    <tr>\n",
       "      <th>84241</th>\n",
       "      <td>18/11/2020</td>\n",
       "      <td>10:57:00</td>\n",
       "      <td>CALL. LOPE DE HARO, 8</td>\n",
       "      <td>TETUÁN</td>\n",
       "      <td>Colisión fronto-lateral</td>\n",
       "      <td>Despejado</td>\n",
       "      <td>Camión rígido</td>\n",
       "      <td>Conductor</td>\n",
       "      <td>De 40 a 44 años</td>\n",
       "      <td>77.0</td>\n",
       "      <td>NaN</td>\n",
       "      <td>NaN</td>\n",
       "      <td>N</td>\n",
       "      <td>0.0</td>\n",
       "    </tr>\n",
       "    <tr>\n",
       "      <th>84242</th>\n",
       "      <td>18/11/2020</td>\n",
       "      <td>10:57:00</td>\n",
       "      <td>CALL. LOPE DE HARO, 8</td>\n",
       "      <td>TETUÁN</td>\n",
       "      <td>Colisión fronto-lateral</td>\n",
       "      <td>Despejado</td>\n",
       "      <td>Furgoneta</td>\n",
       "      <td>Conductor</td>\n",
       "      <td>De 45 a 49 años</td>\n",
       "      <td>77.0</td>\n",
       "      <td>NaN</td>\n",
       "      <td>NaN</td>\n",
       "      <td>N</td>\n",
       "      <td>0.0</td>\n",
       "    </tr>\n",
       "    <tr>\n",
       "      <th>219220</th>\n",
       "      <td>14/12/2023</td>\n",
       "      <td>9:45:00</td>\n",
       "      <td>CALL. ATOCHA, 112</td>\n",
       "      <td>CENTRO</td>\n",
       "      <td>Choque contra obstáculo fijo</td>\n",
       "      <td>Despejado</td>\n",
       "      <td>Camión rígido</td>\n",
       "      <td>Conductor</td>\n",
       "      <td>De 50 a 54 años</td>\n",
       "      <td>77.0</td>\n",
       "      <td>NaN</td>\n",
       "      <td>NaN</td>\n",
       "      <td>N</td>\n",
       "      <td>0.0</td>\n",
       "    </tr>\n",
       "    <tr>\n",
       "      <th>219791</th>\n",
       "      <td>17/12/2023</td>\n",
       "      <td>2:45:00</td>\n",
       "      <td>PASARELA DE LA PRINCESA</td>\n",
       "      <td>ARGANZUELA</td>\n",
       "      <td>Atropello a persona</td>\n",
       "      <td>Despejado</td>\n",
       "      <td>VMU eléctrico</td>\n",
       "      <td>Conductor</td>\n",
       "      <td>De 18 a 20 años</td>\n",
       "      <td>14.0</td>\n",
       "      <td>NaN</td>\n",
       "      <td>NaN</td>\n",
       "      <td>N</td>\n",
       "      <td>0.0</td>\n",
       "    </tr>\n",
       "    <tr>\n",
       "      <th>219792</th>\n",
       "      <td>17/12/2023</td>\n",
       "      <td>2:45:00</td>\n",
       "      <td>PASARELA DE LA PRINCESA</td>\n",
       "      <td>ARGANZUELA</td>\n",
       "      <td>Atropello a persona</td>\n",
       "      <td>Despejado</td>\n",
       "      <td>VMU eléctrico</td>\n",
       "      <td>Peatón</td>\n",
       "      <td>De 50 a 54 años</td>\n",
       "      <td>2.0</td>\n",
       "      <td>NaN</td>\n",
       "      <td>NaN</td>\n",
       "      <td>N</td>\n",
       "      <td>0.0</td>\n",
       "    </tr>\n",
       "    <tr>\n",
       "      <th>219807</th>\n",
       "      <td>17/12/2023</td>\n",
       "      <td>7:35:00</td>\n",
       "      <td>AVDA. PALOMERAS / CALL. PUERTO DEL PICO</td>\n",
       "      <td>PUENTE DE VALLECAS</td>\n",
       "      <td>Colisión fronto-lateral</td>\n",
       "      <td>Despejado</td>\n",
       "      <td>Desconocido</td>\n",
       "      <td>Conductor</td>\n",
       "      <td>De 55 a 59 años</td>\n",
       "      <td>7.0</td>\n",
       "      <td>NaN</td>\n",
       "      <td>NaN</td>\n",
       "      <td>N</td>\n",
       "      <td>0.0</td>\n",
       "    </tr>\n",
       "    <tr>\n",
       "      <th>219992</th>\n",
       "      <td>18/12/2023</td>\n",
       "      <td>13:40:00</td>\n",
       "      <td>AUTOV. M-30, 07NC40</td>\n",
       "      <td>SALAMANCA</td>\n",
       "      <td>Alcance</td>\n",
       "      <td>Despejado</td>\n",
       "      <td>Motocicleta &gt; 125cc</td>\n",
       "      <td>Conductor</td>\n",
       "      <td>De 35 a 39 años</td>\n",
       "      <td>5.0</td>\n",
       "      <td>NaN</td>\n",
       "      <td>NaN</td>\n",
       "      <td>N</td>\n",
       "      <td>0.0</td>\n",
       "    </tr>\n",
       "    <tr>\n",
       "      <th>219993</th>\n",
       "      <td>18/12/2023</td>\n",
       "      <td>13:40:00</td>\n",
       "      <td>AUTOV. M-30, 07NC40</td>\n",
       "      <td>SALAMANCA</td>\n",
       "      <td>Alcance</td>\n",
       "      <td>Despejado</td>\n",
       "      <td>Todo terreno</td>\n",
       "      <td>Conductor</td>\n",
       "      <td>De 35 a 39 años</td>\n",
       "      <td>14.0</td>\n",
       "      <td>NaN</td>\n",
       "      <td>NaN</td>\n",
       "      <td>N</td>\n",
       "      <td>1.0</td>\n",
       "    </tr>\n",
       "  </tbody>\n",
       "</table>\n",
       "</div>"
      ],
      "text/plain": [
       "             fecha      hora                             localizacion  \\\n",
       "84241   18/11/2020  10:57:00                    CALL. LOPE DE HARO, 8   \n",
       "84242   18/11/2020  10:57:00                    CALL. LOPE DE HARO, 8   \n",
       "219220  14/12/2023   9:45:00                        CALL. ATOCHA, 112   \n",
       "219791  17/12/2023   2:45:00                  PASARELA DE LA PRINCESA   \n",
       "219792  17/12/2023   2:45:00                  PASARELA DE LA PRINCESA   \n",
       "219807  17/12/2023   7:35:00  AVDA. PALOMERAS / CALL. PUERTO DEL PICO   \n",
       "219992  18/12/2023  13:40:00                      AUTOV. M-30, 07NC40   \n",
       "219993  18/12/2023  13:40:00                      AUTOV. M-30, 07NC40   \n",
       "\n",
       "                  distrito                tipo_accidente estado_meteorológico  \\\n",
       "84241               TETUÁN       Colisión fronto-lateral            Despejado   \n",
       "84242               TETUÁN       Colisión fronto-lateral            Despejado   \n",
       "219220              CENTRO  Choque contra obstáculo fijo            Despejado   \n",
       "219791          ARGANZUELA           Atropello a persona            Despejado   \n",
       "219792          ARGANZUELA           Atropello a persona            Despejado   \n",
       "219807  PUENTE DE VALLECAS       Colisión fronto-lateral            Despejado   \n",
       "219992           SALAMANCA                       Alcance            Despejado   \n",
       "219993           SALAMANCA                       Alcance            Despejado   \n",
       "\n",
       "              tipo_vehiculo tipo_persona       rango_edad  cod_lesividad  \\\n",
       "84241         Camión rígido    Conductor  De 40 a 44 años           77.0   \n",
       "84242             Furgoneta    Conductor  De 45 a 49 años           77.0   \n",
       "219220        Camión rígido    Conductor  De 50 a 54 años           77.0   \n",
       "219791        VMU eléctrico    Conductor  De 18 a 20 años           14.0   \n",
       "219792        VMU eléctrico       Peatón  De 50 a 54 años            2.0   \n",
       "219807          Desconocido    Conductor  De 55 a 59 años            7.0   \n",
       "219992  Motocicleta > 125cc    Conductor  De 35 a 39 años            5.0   \n",
       "219993         Todo terreno    Conductor  De 35 a 39 años           14.0   \n",
       "\n",
       "       coordenada_x_utm coordenada_y_utm positiva_alcohol  positiva_droga  \n",
       "84241               NaN              NaN                N             0.0  \n",
       "84242               NaN              NaN                N             0.0  \n",
       "219220              NaN              NaN                N             0.0  \n",
       "219791              NaN              NaN                N             0.0  \n",
       "219792              NaN              NaN                N             0.0  \n",
       "219807              NaN              NaN                N             0.0  \n",
       "219992              NaN              NaN                N             0.0  \n",
       "219993              NaN              NaN                N             1.0  "
      ]
     },
     "execution_count": 11,
     "metadata": {},
     "output_type": "execute_result"
    }
   ],
   "source": [
    "# Vamos a través de la localización obtener las coordenadas UTM en la página web https://coordinates-converter.com/es/decimal/40.416775,-3.703790?karte=OpenStreetMap&zoom=8\n",
    "df_Madrid[df_Madrid['coordenada_x_utm'].isna()]"
   ]
  },
  {
   "cell_type": "code",
   "execution_count": 12,
   "id": "2776f545-2daa-4501-b111-a0d660b099f4",
   "metadata": {
    "extensions": {
     "jupyter_dashboards": {
      "activeView": "grid_default",
      "views": {
       "grid_default": {
        "col": null,
        "height": 2,
        "hidden": true,
        "locked": true,
        "row": null,
        "width": 2
       }
      }
     }
    },
    "tags": []
   },
   "outputs": [],
   "source": [
    "# - Calle Lope de Haro 8 - X-UTM = 440301.600 , Y_UTM = 4478557.900\n",
    "# - Calle de Atocha 112 - X-UTM = 441156.796 , Y_UTM = 4473444.959\n",
    "# - Pasarela de la Princesa - X-UTM = 440839.556 , Y_UTM = 4471102.673\n",
    "# - M-30, 07NC40 (como no sabemos que punto km al que se refiere pondremos unas coord por defecto de la M-30) - X-UTM = 440839.556 , Y_UTM = 4471102.673\n",
    "# - Avenida Palomeras 150 - X-UTM = 444900.672 , Y_UTM = 4470784.810\n",
    "# Utilizaremos el método dataframe.at[índice, campo] = entrada (podríamos utilizar también loc en vez de at, tiene el mismo funcionamiento)\n",
    "df_Madrid.at[84241, 'coordenada_x_utm'] = 440301.600\n",
    "df_Madrid.at[84241, 'coordenada_y_utm'] = 4478557.900\n",
    "df_Madrid.at[84242, 'coordenada_x_utm'] = 440301.600\n",
    "df_Madrid.at[84242, 'coordenada_y_utm'] = 4478557.900\n",
    "df_Madrid.at[219220, 'coordenada_x_utm'] = 441156.796\n",
    "df_Madrid.at[219220, 'coordenada_y_utm'] = 4473444.959\n",
    "df_Madrid.at[219791, 'coordenada_x_utm'] = 440839.556\n",
    "df_Madrid.at[219791, 'coordenada_y_utm'] = 4471102.673\n",
    "df_Madrid.at[219792, 'coordenada_x_utm'] = 440839.556\n",
    "df_Madrid.at[219792, 'coordenada_y_utm'] = 4471102.673\n",
    "df_Madrid.at[219807, 'coordenada_x_utm'] = 444900.672\n",
    "df_Madrid.at[219807, 'coordenada_y_utm'] = 4470784.810\n",
    "df_Madrid.at[219992, 'coordenada_x_utm'] = 440839.556\n",
    "df_Madrid.at[219992, 'coordenada_y_utm'] = 4471102.673\n",
    "df_Madrid.at[219993, 'coordenada_x_utm'] = 440839.556\n",
    "df_Madrid.at[219993, 'coordenada_y_utm'] = 4471102.673"
   ]
  },
  {
   "cell_type": "code",
   "execution_count": 13,
   "id": "581a396e-ee2b-4bf2-8e62-0f1bb67c671f",
   "metadata": {
    "extensions": {
     "jupyter_dashboards": {
      "activeView": "grid_default",
      "views": {
       "grid_default": {
        "col": null,
        "height": 2,
        "hidden": true,
        "locked": true,
        "row": null,
        "width": 2
       }
      }
     }
    },
    "tags": []
   },
   "outputs": [
    {
     "data": {
      "text/html": [
       "<div>\n",
       "<style scoped>\n",
       "    .dataframe tbody tr th:only-of-type {\n",
       "        vertical-align: middle;\n",
       "    }\n",
       "\n",
       "    .dataframe tbody tr th {\n",
       "        vertical-align: top;\n",
       "    }\n",
       "\n",
       "    .dataframe thead th {\n",
       "        text-align: right;\n",
       "    }\n",
       "</style>\n",
       "<table border=\"1\" class=\"dataframe\">\n",
       "  <thead>\n",
       "    <tr style=\"text-align: right;\">\n",
       "      <th></th>\n",
       "      <th>fecha</th>\n",
       "      <th>hora</th>\n",
       "      <th>localizacion</th>\n",
       "      <th>distrito</th>\n",
       "      <th>tipo_accidente</th>\n",
       "      <th>estado_meteorológico</th>\n",
       "      <th>tipo_vehiculo</th>\n",
       "      <th>tipo_persona</th>\n",
       "      <th>rango_edad</th>\n",
       "      <th>cod_lesividad</th>\n",
       "      <th>coordenada_x_utm</th>\n",
       "      <th>coordenada_y_utm</th>\n",
       "      <th>positiva_alcohol</th>\n",
       "      <th>positiva_droga</th>\n",
       "    </tr>\n",
       "  </thead>\n",
       "  <tbody>\n",
       "    <tr>\n",
       "      <th>84241</th>\n",
       "      <td>18/11/2020</td>\n",
       "      <td>10:57:00</td>\n",
       "      <td>CALL. LOPE DE HARO, 8</td>\n",
       "      <td>TETUÁN</td>\n",
       "      <td>Colisión fronto-lateral</td>\n",
       "      <td>Despejado</td>\n",
       "      <td>Camión rígido</td>\n",
       "      <td>Conductor</td>\n",
       "      <td>De 40 a 44 años</td>\n",
       "      <td>77.0</td>\n",
       "      <td>440301.6</td>\n",
       "      <td>4478557.9</td>\n",
       "      <td>N</td>\n",
       "      <td>0.0</td>\n",
       "    </tr>\n",
       "    <tr>\n",
       "      <th>84242</th>\n",
       "      <td>18/11/2020</td>\n",
       "      <td>10:57:00</td>\n",
       "      <td>CALL. LOPE DE HARO, 8</td>\n",
       "      <td>TETUÁN</td>\n",
       "      <td>Colisión fronto-lateral</td>\n",
       "      <td>Despejado</td>\n",
       "      <td>Furgoneta</td>\n",
       "      <td>Conductor</td>\n",
       "      <td>De 45 a 49 años</td>\n",
       "      <td>77.0</td>\n",
       "      <td>440301.6</td>\n",
       "      <td>4478557.9</td>\n",
       "      <td>N</td>\n",
       "      <td>0.0</td>\n",
       "    </tr>\n",
       "  </tbody>\n",
       "</table>\n",
       "</div>"
      ],
      "text/plain": [
       "            fecha      hora           localizacion distrito  \\\n",
       "84241  18/11/2020  10:57:00  CALL. LOPE DE HARO, 8   TETUÁN   \n",
       "84242  18/11/2020  10:57:00  CALL. LOPE DE HARO, 8   TETUÁN   \n",
       "\n",
       "                tipo_accidente estado_meteorológico  tipo_vehiculo  \\\n",
       "84241  Colisión fronto-lateral            Despejado  Camión rígido   \n",
       "84242  Colisión fronto-lateral            Despejado      Furgoneta   \n",
       "\n",
       "      tipo_persona       rango_edad  cod_lesividad coordenada_x_utm  \\\n",
       "84241    Conductor  De 40 a 44 años           77.0         440301.6   \n",
       "84242    Conductor  De 45 a 49 años           77.0         440301.6   \n",
       "\n",
       "      coordenada_y_utm positiva_alcohol  positiva_droga  \n",
       "84241        4478557.9                N             0.0  \n",
       "84242        4478557.9                N             0.0  "
      ]
     },
     "execution_count": 13,
     "metadata": {},
     "output_type": "execute_result"
    }
   ],
   "source": [
    "# Comprobamos los cambios en alguna línea\n",
    "df_Madrid.iloc[84241:84243]"
   ]
  },
  {
   "cell_type": "code",
   "execution_count": 14,
   "id": "48ce8a01-3156-4fd1-be9f-71e3bba545b5",
   "metadata": {
    "extensions": {
     "jupyter_dashboards": {
      "activeView": "grid_default",
      "views": {
       "grid_default": {
        "col": null,
        "height": 2,
        "hidden": true,
        "locked": true,
        "row": null,
        "width": 2
       }
      }
     }
    },
    "tags": []
   },
   "outputs": [
    {
     "data": {
      "text/plain": [
       "fecha                   0\n",
       "hora                    0\n",
       "localizacion            0\n",
       "distrito                0\n",
       "tipo_accidente          0\n",
       "estado_meteorológico    0\n",
       "tipo_vehiculo           0\n",
       "tipo_persona            0\n",
       "rango_edad              0\n",
       "cod_lesividad           0\n",
       "coordenada_x_utm        0\n",
       "coordenada_y_utm        0\n",
       "positiva_alcohol        0\n",
       "positiva_droga          0\n",
       "dtype: int64"
      ]
     },
     "execution_count": 14,
     "metadata": {},
     "output_type": "execute_result"
    }
   ],
   "source": [
    "df_Madrid.isnull().sum()"
   ]
  },
  {
   "cell_type": "markdown",
   "id": "656b99b0-5fd5-4135-9e8c-8ab94d8d958a",
   "metadata": {
    "extensions": {
     "jupyter_dashboards": {
      "activeView": "grid_default",
      "views": {
       "grid_default": {
        "col": null,
        "height": 2,
        "hidden": true,
        "locked": true,
        "row": null,
        "width": 2
       }
      }
     }
    }
   },
   "source": [
    "## Conversión del tipo de los campos de nuestro dataframe."
   ]
  },
  {
   "cell_type": "code",
   "execution_count": 15,
   "id": "fd5d02f6-6e0a-45b5-b77a-d739a60de1d6",
   "metadata": {
    "extensions": {
     "jupyter_dashboards": {
      "activeView": "grid_default",
      "views": {
       "grid_default": {
        "col": null,
        "height": 2,
        "hidden": true,
        "locked": true,
        "row": null,
        "width": 2
       }
      }
     }
    },
    "tags": []
   },
   "outputs": [
    {
     "name": "stdout",
     "output_type": "stream",
     "text": [
      "<class 'pandas.core.frame.DataFrame'>\n",
      "RangeIndex: 221910 entries, 0 to 221909\n",
      "Data columns (total 14 columns):\n",
      " #   Column                Non-Null Count   Dtype  \n",
      "---  ------                --------------   -----  \n",
      " 0   fecha                 221910 non-null  object \n",
      " 1   hora                  221910 non-null  object \n",
      " 2   localizacion          221910 non-null  object \n",
      " 3   distrito              221910 non-null  object \n",
      " 4   tipo_accidente        221910 non-null  object \n",
      " 5   estado_meteorológico  221910 non-null  object \n",
      " 6   tipo_vehiculo         221910 non-null  object \n",
      " 7   tipo_persona          221910 non-null  object \n",
      " 8   rango_edad            221910 non-null  object \n",
      " 9   cod_lesividad         221910 non-null  float64\n",
      " 10  coordenada_x_utm      221910 non-null  object \n",
      " 11  coordenada_y_utm      221910 non-null  object \n",
      " 12  positiva_alcohol      221910 non-null  object \n",
      " 13  positiva_droga        221910 non-null  float64\n",
      "dtypes: float64(2), object(12)\n",
      "memory usage: 23.7+ MB\n"
     ]
    }
   ],
   "source": [
    "df_Madrid.info()"
   ]
  },
  {
   "cell_type": "code",
   "execution_count": 16,
   "id": "07bba16b-9f3a-45dc-b770-5c8bf14bb49f",
   "metadata": {
    "extensions": {
     "jupyter_dashboards": {
      "activeView": "grid_default",
      "views": {
       "grid_default": {
        "col": null,
        "height": 2,
        "hidden": true,
        "locked": true,
        "row": null,
        "width": 2
       }
      }
     }
    },
    "tags": []
   },
   "outputs": [],
   "source": [
    "# Conversión de positivo_droga a string sin decimales -> integer -> string\n",
    "df_Madrid['positiva_droga'] = df_Madrid['positiva_droga'].astype(int)\n",
    "df_Madrid['positiva_droga'] = df_Madrid['positiva_droga'].astype(str)"
   ]
  },
  {
   "cell_type": "code",
   "execution_count": 17,
   "id": "ba113b24-0417-443b-89a6-e521e6c990d4",
   "metadata": {
    "extensions": {
     "jupyter_dashboards": {
      "activeView": "grid_default",
      "views": {
       "grid_default": {
        "col": null,
        "height": 2,
        "hidden": true,
        "locked": true,
        "row": null,
        "width": 2
       }
      }
     }
    },
    "tags": []
   },
   "outputs": [
    {
     "data": {
      "text/html": [
       "<div>\n",
       "<style scoped>\n",
       "    .dataframe tbody tr th:only-of-type {\n",
       "        vertical-align: middle;\n",
       "    }\n",
       "\n",
       "    .dataframe tbody tr th {\n",
       "        vertical-align: top;\n",
       "    }\n",
       "\n",
       "    .dataframe thead th {\n",
       "        text-align: right;\n",
       "    }\n",
       "</style>\n",
       "<table border=\"1\" class=\"dataframe\">\n",
       "  <thead>\n",
       "    <tr style=\"text-align: right;\">\n",
       "      <th></th>\n",
       "      <th>fecha</th>\n",
       "      <th>hora</th>\n",
       "      <th>localizacion</th>\n",
       "      <th>distrito</th>\n",
       "      <th>tipo_accidente</th>\n",
       "      <th>estado_meteorológico</th>\n",
       "      <th>tipo_vehiculo</th>\n",
       "      <th>tipo_persona</th>\n",
       "      <th>rango_edad</th>\n",
       "      <th>cod_lesividad</th>\n",
       "      <th>coordenada_x_utm</th>\n",
       "      <th>coordenada_y_utm</th>\n",
       "      <th>positiva_alcohol</th>\n",
       "      <th>positiva_droga</th>\n",
       "    </tr>\n",
       "  </thead>\n",
       "  <tbody>\n",
       "    <tr>\n",
       "      <th>221907</th>\n",
       "      <td>29/12/2023</td>\n",
       "      <td>9:35:00</td>\n",
       "      <td>PTA. TOLEDO, 0</td>\n",
       "      <td>CENTRO</td>\n",
       "      <td>Alcance</td>\n",
       "      <td>Despejado</td>\n",
       "      <td>Motocicleta hasta 125cc</td>\n",
       "      <td>Conductor</td>\n",
       "      <td>De 45 a 49 años</td>\n",
       "      <td>77.0</td>\n",
       "      <td>439594.878</td>\n",
       "      <td>4473163.747</td>\n",
       "      <td>N</td>\n",
       "      <td>N</td>\n",
       "    </tr>\n",
       "    <tr>\n",
       "      <th>221908</th>\n",
       "      <td>29/12/2023</td>\n",
       "      <td>9:35:00</td>\n",
       "      <td>PTA. TOLEDO, 0</td>\n",
       "      <td>CENTRO</td>\n",
       "      <td>Alcance</td>\n",
       "      <td>Despejado</td>\n",
       "      <td>Turismo</td>\n",
       "      <td>Conductor</td>\n",
       "      <td>De 21 a 24 años</td>\n",
       "      <td>77.0</td>\n",
       "      <td>439594.878</td>\n",
       "      <td>4473163.747</td>\n",
       "      <td>N</td>\n",
       "      <td>N</td>\n",
       "    </tr>\n",
       "    <tr>\n",
       "      <th>221909</th>\n",
       "      <td>29/12/2023</td>\n",
       "      <td>5:10:00</td>\n",
       "      <td>CALL. HERNANDEZ DE TEJADA / CALL. AGASTIA</td>\n",
       "      <td>CIUDAD LINEAL</td>\n",
       "      <td>Solo salida de la vía</td>\n",
       "      <td>Despejado</td>\n",
       "      <td>Turismo</td>\n",
       "      <td>Conductor</td>\n",
       "      <td>De 21 a 24 años</td>\n",
       "      <td>77.0</td>\n",
       "      <td>444544.675</td>\n",
       "      <td>4477557.087</td>\n",
       "      <td>S</td>\n",
       "      <td>N</td>\n",
       "    </tr>\n",
       "  </tbody>\n",
       "</table>\n",
       "</div>"
      ],
      "text/plain": [
       "             fecha     hora                               localizacion  \\\n",
       "221907  29/12/2023  9:35:00                             PTA. TOLEDO, 0   \n",
       "221908  29/12/2023  9:35:00                             PTA. TOLEDO, 0   \n",
       "221909  29/12/2023  5:10:00  CALL. HERNANDEZ DE TEJADA / CALL. AGASTIA   \n",
       "\n",
       "             distrito         tipo_accidente estado_meteorológico  \\\n",
       "221907         CENTRO                Alcance            Despejado   \n",
       "221908         CENTRO                Alcance            Despejado   \n",
       "221909  CIUDAD LINEAL  Solo salida de la vía            Despejado   \n",
       "\n",
       "                  tipo_vehiculo tipo_persona       rango_edad  cod_lesividad  \\\n",
       "221907  Motocicleta hasta 125cc    Conductor  De 45 a 49 años           77.0   \n",
       "221908                  Turismo    Conductor  De 21 a 24 años           77.0   \n",
       "221909                  Turismo    Conductor  De 21 a 24 años           77.0   \n",
       "\n",
       "       coordenada_x_utm coordenada_y_utm positiva_alcohol positiva_droga  \n",
       "221907       439594.878      4473163.747                N              N  \n",
       "221908       439594.878      4473163.747                N              N  \n",
       "221909       444544.675      4477557.087                S              N  "
      ]
     },
     "execution_count": 17,
     "metadata": {},
     "output_type": "execute_result"
    }
   ],
   "source": [
    "# Cambiamos los valores 0 por N y 1 por S\n",
    "df_Madrid['positiva_droga'] = df_Madrid['positiva_droga'].replace({'0': 'N', '1': 'S'})\n",
    "df_Madrid.tail(3)"
   ]
  },
  {
   "cell_type": "code",
   "execution_count": 18,
   "id": "3f8de9cb-3816-4562-849f-31d48aded106",
   "metadata": {
    "extensions": {
     "jupyter_dashboards": {
      "activeView": "grid_default",
      "views": {
       "grid_default": {
        "col": null,
        "height": 2,
        "hidden": true,
        "locked": true,
        "row": null,
        "width": 2
       }
      }
     }
    },
    "tags": []
   },
   "outputs": [
    {
     "data": {
      "text/plain": [
       "fecha                   0\n",
       "hora                    0\n",
       "localizacion            0\n",
       "distrito                0\n",
       "tipo_accidente          0\n",
       "estado_meteorológico    0\n",
       "tipo_vehiculo           0\n",
       "tipo_persona            0\n",
       "rango_edad              0\n",
       "cod_lesividad           0\n",
       "coordenada_x_utm        0\n",
       "coordenada_y_utm        0\n",
       "positiva_alcohol        0\n",
       "positiva_droga          0\n",
       "dtype: int64"
      ]
     },
     "execution_count": 18,
     "metadata": {},
     "output_type": "execute_result"
    }
   ],
   "source": [
    "df_Madrid.isnull().sum()"
   ]
  },
  {
   "cell_type": "code",
   "execution_count": 19,
   "id": "dc3c825d-7aa1-4d94-85d5-686614854380",
   "metadata": {
    "extensions": {
     "jupyter_dashboards": {
      "activeView": "grid_default",
      "views": {
       "grid_default": {
        "col": null,
        "height": 2,
        "hidden": true,
        "locked": true,
        "row": null,
        "width": 2
       }
      }
     }
    },
    "tags": []
   },
   "outputs": [
    {
     "name": "stdout",
     "output_type": "stream",
     "text": [
      "<class 'pandas.core.frame.DataFrame'>\n",
      "RangeIndex: 221910 entries, 0 to 221909\n",
      "Data columns (total 14 columns):\n",
      " #   Column                Non-Null Count   Dtype  \n",
      "---  ------                --------------   -----  \n",
      " 0   fecha                 221910 non-null  object \n",
      " 1   hora                  221910 non-null  object \n",
      " 2   localizacion          221910 non-null  object \n",
      " 3   distrito              221910 non-null  object \n",
      " 4   tipo_accidente        221910 non-null  object \n",
      " 5   estado_meteorológico  221910 non-null  object \n",
      " 6   tipo_vehiculo         221910 non-null  object \n",
      " 7   tipo_persona          221910 non-null  object \n",
      " 8   rango_edad            221910 non-null  object \n",
      " 9   cod_lesividad         221910 non-null  float64\n",
      " 10  coordenada_x_utm      221880 non-null  float64\n",
      " 11  coordenada_y_utm      221880 non-null  float64\n",
      " 12  positiva_alcohol      221910 non-null  object \n",
      " 13  positiva_droga        221910 non-null  object \n",
      "dtypes: float64(3), object(11)\n",
      "memory usage: 23.7+ MB\n"
     ]
    }
   ],
   "source": [
    "# Reemplazar la coma por un punto solo en los valores que tienen una coma\n",
    "df_Madrid['coordenada_x_utm'] = df_Madrid['coordenada_x_utm'].apply(lambda x: x.replace(',', '.') if isinstance(x, str) else x)\n",
    "df_Madrid['coordenada_y_utm'] = df_Madrid['coordenada_y_utm'].apply(lambda x: x.replace(',', '.') if isinstance(x, str) else x)\n",
    "\n",
    "# Convertimos a float los campos de coordenada_x_utm y coordenada_y_utm\n",
    "# Nos generará un campo NaN si hay errores\n",
    "df_Madrid['coordenada_x_utm'] = pd.to_numeric(df_Madrid['coordenada_x_utm'], errors='coerce')\n",
    "df_Madrid['coordenada_y_utm'] = pd.to_numeric(df_Madrid['coordenada_y_utm'], errors='coerce')\n",
    "df_Madrid.info()"
   ]
  },
  {
   "cell_type": "code",
   "execution_count": 20,
   "id": "b47284f3-d93e-4ca4-89f9-7fdc850971fa",
   "metadata": {
    "extensions": {
     "jupyter_dashboards": {
      "activeView": "grid_default",
      "views": {
       "grid_default": {
        "col": null,
        "height": 2,
        "hidden": true,
        "locked": true,
        "row": null,
        "width": 2
       }
      }
     }
    },
    "tags": []
   },
   "outputs": [
    {
     "data": {
      "text/html": [
       "<div>\n",
       "<style scoped>\n",
       "    .dataframe tbody tr th:only-of-type {\n",
       "        vertical-align: middle;\n",
       "    }\n",
       "\n",
       "    .dataframe tbody tr th {\n",
       "        vertical-align: top;\n",
       "    }\n",
       "\n",
       "    .dataframe thead th {\n",
       "        text-align: right;\n",
       "    }\n",
       "</style>\n",
       "<table border=\"1\" class=\"dataframe\">\n",
       "  <thead>\n",
       "    <tr style=\"text-align: right;\">\n",
       "      <th></th>\n",
       "      <th>fecha</th>\n",
       "      <th>hora</th>\n",
       "      <th>localizacion</th>\n",
       "      <th>distrito</th>\n",
       "      <th>tipo_accidente</th>\n",
       "      <th>estado_meteorológico</th>\n",
       "      <th>tipo_vehiculo</th>\n",
       "      <th>tipo_persona</th>\n",
       "      <th>rango_edad</th>\n",
       "      <th>cod_lesividad</th>\n",
       "      <th>coordenada_x_utm</th>\n",
       "      <th>coordenada_y_utm</th>\n",
       "      <th>positiva_alcohol</th>\n",
       "      <th>positiva_droga</th>\n",
       "    </tr>\n",
       "  </thead>\n",
       "  <tbody>\n",
       "    <tr>\n",
       "      <th>29308</th>\n",
       "      <td>23/07/2019</td>\n",
       "      <td>8:45:00</td>\n",
       "      <td>AUTOV. M-30, +03200E</td>\n",
       "      <td>FUENCARRAL-EL PARDO</td>\n",
       "      <td>Alcance</td>\n",
       "      <td>Despejado</td>\n",
       "      <td>Motocicleta &gt; 125cc</td>\n",
       "      <td>Conductor</td>\n",
       "      <td>De 30 a 34 años</td>\n",
       "      <td>7.0</td>\n",
       "      <td>NaN</td>\n",
       "      <td>NaN</td>\n",
       "      <td>N</td>\n",
       "      <td>N</td>\n",
       "    </tr>\n",
       "    <tr>\n",
       "      <th>29309</th>\n",
       "      <td>23/07/2019</td>\n",
       "      <td>8:45:00</td>\n",
       "      <td>AUTOV. M-30, +03200E</td>\n",
       "      <td>FUENCARRAL-EL PARDO</td>\n",
       "      <td>Alcance</td>\n",
       "      <td>Despejado</td>\n",
       "      <td>Turismo</td>\n",
       "      <td>Conductor</td>\n",
       "      <td>De 50 a 54 años</td>\n",
       "      <td>14.0</td>\n",
       "      <td>NaN</td>\n",
       "      <td>NaN</td>\n",
       "      <td>N</td>\n",
       "      <td>N</td>\n",
       "    </tr>\n",
       "    <tr>\n",
       "      <th>69764</th>\n",
       "      <td>09/08/2020</td>\n",
       "      <td>18:10:00</td>\n",
       "      <td>CALL. POLVORANCA, 13</td>\n",
       "      <td>CARABANCHEL</td>\n",
       "      <td>Choque contra obstáculo fijo</td>\n",
       "      <td>Despejado</td>\n",
       "      <td>Desconocido</td>\n",
       "      <td>Conductor</td>\n",
       "      <td>Desconocido</td>\n",
       "      <td>77.0</td>\n",
       "      <td>NaN</td>\n",
       "      <td>NaN</td>\n",
       "      <td>N</td>\n",
       "      <td>N</td>\n",
       "    </tr>\n",
       "    <tr>\n",
       "      <th>69765</th>\n",
       "      <td>09/08/2020</td>\n",
       "      <td>18:10:00</td>\n",
       "      <td>CALL. POLVORANCA, 13</td>\n",
       "      <td>CARABANCHEL</td>\n",
       "      <td>Choque contra obstáculo fijo</td>\n",
       "      <td>Despejado</td>\n",
       "      <td>Furgoneta</td>\n",
       "      <td>Conductor</td>\n",
       "      <td>Desconocido</td>\n",
       "      <td>77.0</td>\n",
       "      <td>NaN</td>\n",
       "      <td>NaN</td>\n",
       "      <td>N</td>\n",
       "      <td>N</td>\n",
       "    </tr>\n",
       "    <tr>\n",
       "      <th>69766</th>\n",
       "      <td>09/08/2020</td>\n",
       "      <td>18:10:00</td>\n",
       "      <td>CALL. POLVORANCA, 13</td>\n",
       "      <td>CARABANCHEL</td>\n",
       "      <td>Choque contra obstáculo fijo</td>\n",
       "      <td>Despejado</td>\n",
       "      <td>Turismo</td>\n",
       "      <td>Conductor</td>\n",
       "      <td>Desconocido</td>\n",
       "      <td>77.0</td>\n",
       "      <td>NaN</td>\n",
       "      <td>NaN</td>\n",
       "      <td>N</td>\n",
       "      <td>N</td>\n",
       "    </tr>\n",
       "    <tr>\n",
       "      <th>72304</th>\n",
       "      <td>13/09/2020</td>\n",
       "      <td>17:45:00</td>\n",
       "      <td>AVDA. ALBUFERA / AVDA. PABLO NERUDA</td>\n",
       "      <td>PUENTE DE VALLECAS</td>\n",
       "      <td>Colisión fronto-lateral</td>\n",
       "      <td>Despejado</td>\n",
       "      <td>Turismo</td>\n",
       "      <td>Conductor</td>\n",
       "      <td>De 30 a 34 años</td>\n",
       "      <td>14.0</td>\n",
       "      <td>NaN</td>\n",
       "      <td>NaN</td>\n",
       "      <td>N</td>\n",
       "      <td>N</td>\n",
       "    </tr>\n",
       "    <tr>\n",
       "      <th>72305</th>\n",
       "      <td>13/09/2020</td>\n",
       "      <td>17:45:00</td>\n",
       "      <td>AVDA. ALBUFERA / AVDA. PABLO NERUDA</td>\n",
       "      <td>PUENTE DE VALLECAS</td>\n",
       "      <td>Colisión fronto-lateral</td>\n",
       "      <td>Despejado</td>\n",
       "      <td>Turismo</td>\n",
       "      <td>Conductor</td>\n",
       "      <td>De 40 a 44 años</td>\n",
       "      <td>14.0</td>\n",
       "      <td>NaN</td>\n",
       "      <td>NaN</td>\n",
       "      <td>N</td>\n",
       "      <td>N</td>\n",
       "    </tr>\n",
       "    <tr>\n",
       "      <th>72306</th>\n",
       "      <td>13/09/2020</td>\n",
       "      <td>17:45:00</td>\n",
       "      <td>AVDA. ALBUFERA / AVDA. PABLO NERUDA</td>\n",
       "      <td>PUENTE DE VALLECAS</td>\n",
       "      <td>Colisión fronto-lateral</td>\n",
       "      <td>Despejado</td>\n",
       "      <td>Turismo</td>\n",
       "      <td>Pasajero</td>\n",
       "      <td>De 25 a 29 años</td>\n",
       "      <td>14.0</td>\n",
       "      <td>NaN</td>\n",
       "      <td>NaN</td>\n",
       "      <td>N</td>\n",
       "      <td>N</td>\n",
       "    </tr>\n",
       "    <tr>\n",
       "      <th>115061</th>\n",
       "      <td>17/10/2021</td>\n",
       "      <td>12:20:00</td>\n",
       "      <td>RONDA. SUR / CALL. MARTOS</td>\n",
       "      <td>PUENTE DE VALLECAS</td>\n",
       "      <td>Alcance</td>\n",
       "      <td>Despejado</td>\n",
       "      <td>Furgoneta</td>\n",
       "      <td>Conductor</td>\n",
       "      <td>Desconocido</td>\n",
       "      <td>77.0</td>\n",
       "      <td>NaN</td>\n",
       "      <td>NaN</td>\n",
       "      <td>N</td>\n",
       "      <td>N</td>\n",
       "    </tr>\n",
       "    <tr>\n",
       "      <th>115062</th>\n",
       "      <td>17/10/2021</td>\n",
       "      <td>12:20:00</td>\n",
       "      <td>RONDA. SUR / CALL. MARTOS</td>\n",
       "      <td>PUENTE DE VALLECAS</td>\n",
       "      <td>Alcance</td>\n",
       "      <td>Despejado</td>\n",
       "      <td>Turismo</td>\n",
       "      <td>Conductor</td>\n",
       "      <td>De 18 a 20 años</td>\n",
       "      <td>77.0</td>\n",
       "      <td>NaN</td>\n",
       "      <td>NaN</td>\n",
       "      <td>N</td>\n",
       "      <td>N</td>\n",
       "    </tr>\n",
       "    <tr>\n",
       "      <th>122183</th>\n",
       "      <td>03/12/2021</td>\n",
       "      <td>6:30:00</td>\n",
       "      <td>CALL. REY FRANCISCO, 28</td>\n",
       "      <td>MONCLOA-ARAVACA</td>\n",
       "      <td>Colisión múltiple</td>\n",
       "      <td>Despejado</td>\n",
       "      <td>Desconocido</td>\n",
       "      <td>Conductor</td>\n",
       "      <td>Desconocido</td>\n",
       "      <td>77.0</td>\n",
       "      <td>NaN</td>\n",
       "      <td>NaN</td>\n",
       "      <td>N</td>\n",
       "      <td>N</td>\n",
       "    </tr>\n",
       "    <tr>\n",
       "      <th>122184</th>\n",
       "      <td>03/12/2021</td>\n",
       "      <td>6:30:00</td>\n",
       "      <td>CALL. REY FRANCISCO, 28</td>\n",
       "      <td>MONCLOA-ARAVACA</td>\n",
       "      <td>Colisión múltiple</td>\n",
       "      <td>Despejado</td>\n",
       "      <td>Turismo</td>\n",
       "      <td>Conductor</td>\n",
       "      <td>De 21 a 24 años</td>\n",
       "      <td>77.0</td>\n",
       "      <td>NaN</td>\n",
       "      <td>NaN</td>\n",
       "      <td>N</td>\n",
       "      <td>N</td>\n",
       "    </tr>\n",
       "    <tr>\n",
       "      <th>123687</th>\n",
       "      <td>14/12/2021</td>\n",
       "      <td>9:10:00</td>\n",
       "      <td>AUTOV. M-23, KM 0,700</td>\n",
       "      <td>MORATALAZ</td>\n",
       "      <td>Colisión múltiple</td>\n",
       "      <td>Despejado</td>\n",
       "      <td>Turismo</td>\n",
       "      <td>Conductor</td>\n",
       "      <td>De 45 a 49 años</td>\n",
       "      <td>7.0</td>\n",
       "      <td>NaN</td>\n",
       "      <td>NaN</td>\n",
       "      <td>N</td>\n",
       "      <td>N</td>\n",
       "    </tr>\n",
       "    <tr>\n",
       "      <th>123688</th>\n",
       "      <td>14/12/2021</td>\n",
       "      <td>9:10:00</td>\n",
       "      <td>AUTOV. M-23, KM 0,700</td>\n",
       "      <td>MORATALAZ</td>\n",
       "      <td>Colisión múltiple</td>\n",
       "      <td>Despejado</td>\n",
       "      <td>Turismo</td>\n",
       "      <td>Conductor</td>\n",
       "      <td>De 50 a 54 años</td>\n",
       "      <td>14.0</td>\n",
       "      <td>NaN</td>\n",
       "      <td>NaN</td>\n",
       "      <td>N</td>\n",
       "      <td>N</td>\n",
       "    </tr>\n",
       "    <tr>\n",
       "      <th>123689</th>\n",
       "      <td>14/12/2021</td>\n",
       "      <td>9:10:00</td>\n",
       "      <td>AUTOV. M-23, KM 0,700</td>\n",
       "      <td>MORATALAZ</td>\n",
       "      <td>Colisión múltiple</td>\n",
       "      <td>Despejado</td>\n",
       "      <td>Turismo</td>\n",
       "      <td>Conductor</td>\n",
       "      <td>De 60 a 64 años</td>\n",
       "      <td>14.0</td>\n",
       "      <td>NaN</td>\n",
       "      <td>NaN</td>\n",
       "      <td>N</td>\n",
       "      <td>N</td>\n",
       "    </tr>\n",
       "    <tr>\n",
       "      <th>125475</th>\n",
       "      <td>27/12/2021</td>\n",
       "      <td>2:10:00</td>\n",
       "      <td>PLAZA. AGUSTIN GONZALEZ / CALL. SANTA GENOVEVA</td>\n",
       "      <td>CIUDAD LINEAL</td>\n",
       "      <td>Desconocido</td>\n",
       "      <td>Desconocido</td>\n",
       "      <td>Turismo</td>\n",
       "      <td>Conductor</td>\n",
       "      <td>De 45 a 49 años</td>\n",
       "      <td>77.0</td>\n",
       "      <td>NaN</td>\n",
       "      <td>NaN</td>\n",
       "      <td>S</td>\n",
       "      <td>N</td>\n",
       "    </tr>\n",
       "    <tr>\n",
       "      <th>125669</th>\n",
       "      <td>29/12/2021</td>\n",
       "      <td>0:00:00</td>\n",
       "      <td>URB. MANZANA DE AZCA / CALL. AGUSTIN DE BETANC...</td>\n",
       "      <td>TETUÁN</td>\n",
       "      <td>Choque contra obstáculo fijo</td>\n",
       "      <td>Despejado</td>\n",
       "      <td>Turismo</td>\n",
       "      <td>Conductor</td>\n",
       "      <td>Desconocido</td>\n",
       "      <td>77.0</td>\n",
       "      <td>NaN</td>\n",
       "      <td>NaN</td>\n",
       "      <td>N</td>\n",
       "      <td>N</td>\n",
       "    </tr>\n",
       "    <tr>\n",
       "      <th>125768</th>\n",
       "      <td>29/12/2021</td>\n",
       "      <td>13:55:00</td>\n",
       "      <td>CALL. GENERAL RICARDOS / CALL. BATALLA DE TORR...</td>\n",
       "      <td>CARABANCHEL</td>\n",
       "      <td>Alcance</td>\n",
       "      <td>Despejado</td>\n",
       "      <td>Desconocido</td>\n",
       "      <td>Conductor</td>\n",
       "      <td>De 45 a 49 años</td>\n",
       "      <td>14.0</td>\n",
       "      <td>NaN</td>\n",
       "      <td>NaN</td>\n",
       "      <td>N</td>\n",
       "      <td>N</td>\n",
       "    </tr>\n",
       "    <tr>\n",
       "      <th>125858</th>\n",
       "      <td>30/12/2021</td>\n",
       "      <td>23:10:00</td>\n",
       "      <td>CALL. ARROYO DE LA MEDIA LEGUA, 72</td>\n",
       "      <td>MORATALAZ</td>\n",
       "      <td>Atropello a persona</td>\n",
       "      <td>Se desconoce</td>\n",
       "      <td>Turismo</td>\n",
       "      <td>Conductor</td>\n",
       "      <td>De 45 a 49 años</td>\n",
       "      <td>14.0</td>\n",
       "      <td>NaN</td>\n",
       "      <td>NaN</td>\n",
       "      <td>N</td>\n",
       "      <td>N</td>\n",
       "    </tr>\n",
       "    <tr>\n",
       "      <th>125859</th>\n",
       "      <td>30/12/2021</td>\n",
       "      <td>23:10:00</td>\n",
       "      <td>CALL. ARROYO DE LA MEDIA LEGUA, 72</td>\n",
       "      <td>MORATALAZ</td>\n",
       "      <td>Atropello a persona</td>\n",
       "      <td>Se desconoce</td>\n",
       "      <td>Turismo</td>\n",
       "      <td>Peatón</td>\n",
       "      <td>De 45 a 49 años</td>\n",
       "      <td>3.0</td>\n",
       "      <td>NaN</td>\n",
       "      <td>NaN</td>\n",
       "      <td>N</td>\n",
       "      <td>N</td>\n",
       "    </tr>\n",
       "    <tr>\n",
       "      <th>126829</th>\n",
       "      <td>10/01/2022</td>\n",
       "      <td>5:40:00</td>\n",
       "      <td>CALL. GENERAL RICARDOS, 15</td>\n",
       "      <td>CARABANCHEL</td>\n",
       "      <td>Caída</td>\n",
       "      <td>Desconocido</td>\n",
       "      <td>Motocicleta hasta 125cc</td>\n",
       "      <td>Conductor</td>\n",
       "      <td>De 35 a 39 años</td>\n",
       "      <td>77.0</td>\n",
       "      <td>NaN</td>\n",
       "      <td>NaN</td>\n",
       "      <td>N</td>\n",
       "      <td>N</td>\n",
       "    </tr>\n",
       "    <tr>\n",
       "      <th>168597</th>\n",
       "      <td>01/12/2022</td>\n",
       "      <td>11:25:00</td>\n",
       "      <td>CALL. FERNAN GONZALEZ, 2</td>\n",
       "      <td>SALAMANCA</td>\n",
       "      <td>Alcance</td>\n",
       "      <td>Desconocido</td>\n",
       "      <td>Furgoneta</td>\n",
       "      <td>Conductor</td>\n",
       "      <td>Desconocido</td>\n",
       "      <td>77.0</td>\n",
       "      <td>NaN</td>\n",
       "      <td>NaN</td>\n",
       "      <td>N</td>\n",
       "      <td>N</td>\n",
       "    </tr>\n",
       "    <tr>\n",
       "      <th>168598</th>\n",
       "      <td>01/12/2022</td>\n",
       "      <td>11:25:00</td>\n",
       "      <td>CALL. FERNAN GONZALEZ, 2</td>\n",
       "      <td>SALAMANCA</td>\n",
       "      <td>Alcance</td>\n",
       "      <td>Desconocido</td>\n",
       "      <td>Turismo</td>\n",
       "      <td>Conductor</td>\n",
       "      <td>De 70 a 74 años</td>\n",
       "      <td>77.0</td>\n",
       "      <td>NaN</td>\n",
       "      <td>NaN</td>\n",
       "      <td>N</td>\n",
       "      <td>N</td>\n",
       "    </tr>\n",
       "    <tr>\n",
       "      <th>169146</th>\n",
       "      <td>04/12/2022</td>\n",
       "      <td>15:35:00</td>\n",
       "      <td>CALL. DOLORES FOLGUERAS / CALL. PICO DE LA MAL...</td>\n",
       "      <td>PUENTE DE VALLECAS</td>\n",
       "      <td>Caída</td>\n",
       "      <td>Nublado</td>\n",
       "      <td>Ciclomotor</td>\n",
       "      <td>Conductor</td>\n",
       "      <td>De 18 a 20 años</td>\n",
       "      <td>7.0</td>\n",
       "      <td>NaN</td>\n",
       "      <td>NaN</td>\n",
       "      <td>N</td>\n",
       "      <td>N</td>\n",
       "    </tr>\n",
       "    <tr>\n",
       "      <th>170224</th>\n",
       "      <td>12/12/2022</td>\n",
       "      <td>8:00:00</td>\n",
       "      <td>A42 KM 6,300</td>\n",
       "      <td>USERA</td>\n",
       "      <td>Alcance</td>\n",
       "      <td>Desconocido</td>\n",
       "      <td>Turismo</td>\n",
       "      <td>Conductor</td>\n",
       "      <td>De 40 a 44 años</td>\n",
       "      <td>14.0</td>\n",
       "      <td>NaN</td>\n",
       "      <td>NaN</td>\n",
       "      <td>N</td>\n",
       "      <td>N</td>\n",
       "    </tr>\n",
       "    <tr>\n",
       "      <th>170225</th>\n",
       "      <td>12/12/2022</td>\n",
       "      <td>8:00:00</td>\n",
       "      <td>A42 KM 6,300</td>\n",
       "      <td>USERA</td>\n",
       "      <td>Alcance</td>\n",
       "      <td>Desconocido</td>\n",
       "      <td>Turismo</td>\n",
       "      <td>Conductor</td>\n",
       "      <td>De 45 a 49 años</td>\n",
       "      <td>14.0</td>\n",
       "      <td>NaN</td>\n",
       "      <td>NaN</td>\n",
       "      <td>N</td>\n",
       "      <td>N</td>\n",
       "    </tr>\n",
       "    <tr>\n",
       "      <th>171337</th>\n",
       "      <td>18/12/2022</td>\n",
       "      <td>6:00:00</td>\n",
       "      <td>AVDA. ALBUFERA / CIUDAD DE BARCELONA</td>\n",
       "      <td>PUENTE DE VALLECAS</td>\n",
       "      <td>Colisión fronto-lateral</td>\n",
       "      <td>Despejado</td>\n",
       "      <td>Motocicleta hasta 125cc</td>\n",
       "      <td>Conductor</td>\n",
       "      <td>De 21 a 24 años</td>\n",
       "      <td>2.0</td>\n",
       "      <td>NaN</td>\n",
       "      <td>NaN</td>\n",
       "      <td>N</td>\n",
       "      <td>N</td>\n",
       "    </tr>\n",
       "    <tr>\n",
       "      <th>173064</th>\n",
       "      <td>31/12/2022</td>\n",
       "      <td>17:17:00</td>\n",
       "      <td>CALL. RAIMUNDO FERNANDEZ VILLAVERDE / edg</td>\n",
       "      <td>TETUÁN</td>\n",
       "      <td>Colisión fronto-lateral</td>\n",
       "      <td>Despejado</td>\n",
       "      <td>Turismo</td>\n",
       "      <td>Conductor</td>\n",
       "      <td>De 25 a 29 años</td>\n",
       "      <td>77.0</td>\n",
       "      <td>NaN</td>\n",
       "      <td>NaN</td>\n",
       "      <td>N</td>\n",
       "      <td>N</td>\n",
       "    </tr>\n",
       "    <tr>\n",
       "      <th>173065</th>\n",
       "      <td>31/12/2022</td>\n",
       "      <td>17:17:00</td>\n",
       "      <td>CALL. RAIMUNDO FERNANDEZ VILLAVERDE / edg</td>\n",
       "      <td>TETUÁN</td>\n",
       "      <td>Colisión fronto-lateral</td>\n",
       "      <td>Despejado</td>\n",
       "      <td>Turismo</td>\n",
       "      <td>Conductor</td>\n",
       "      <td>De 55 a 59 años</td>\n",
       "      <td>77.0</td>\n",
       "      <td>NaN</td>\n",
       "      <td>NaN</td>\n",
       "      <td>N</td>\n",
       "      <td>N</td>\n",
       "    </tr>\n",
       "    <tr>\n",
       "      <th>173066</th>\n",
       "      <td>31/12/2022</td>\n",
       "      <td>17:17:00</td>\n",
       "      <td>CALL. RAIMUNDO FERNANDEZ VILLAVERDE / edg</td>\n",
       "      <td>TETUÁN</td>\n",
       "      <td>Colisión fronto-lateral</td>\n",
       "      <td>Despejado</td>\n",
       "      <td>Turismo</td>\n",
       "      <td>Pasajero</td>\n",
       "      <td>De 25 a 29 años</td>\n",
       "      <td>77.0</td>\n",
       "      <td>NaN</td>\n",
       "      <td>NaN</td>\n",
       "      <td>N</td>\n",
       "      <td>N</td>\n",
       "    </tr>\n",
       "  </tbody>\n",
       "</table>\n",
       "</div>"
      ],
      "text/plain": [
       "             fecha      hora  \\\n",
       "29308   23/07/2019   8:45:00   \n",
       "29309   23/07/2019   8:45:00   \n",
       "69764   09/08/2020  18:10:00   \n",
       "69765   09/08/2020  18:10:00   \n",
       "69766   09/08/2020  18:10:00   \n",
       "72304   13/09/2020  17:45:00   \n",
       "72305   13/09/2020  17:45:00   \n",
       "72306   13/09/2020  17:45:00   \n",
       "115061  17/10/2021  12:20:00   \n",
       "115062  17/10/2021  12:20:00   \n",
       "122183  03/12/2021   6:30:00   \n",
       "122184  03/12/2021   6:30:00   \n",
       "123687  14/12/2021   9:10:00   \n",
       "123688  14/12/2021   9:10:00   \n",
       "123689  14/12/2021   9:10:00   \n",
       "125475  27/12/2021   2:10:00   \n",
       "125669  29/12/2021   0:00:00   \n",
       "125768  29/12/2021  13:55:00   \n",
       "125858  30/12/2021  23:10:00   \n",
       "125859  30/12/2021  23:10:00   \n",
       "126829  10/01/2022   5:40:00   \n",
       "168597  01/12/2022  11:25:00   \n",
       "168598  01/12/2022  11:25:00   \n",
       "169146  04/12/2022  15:35:00   \n",
       "170224  12/12/2022   8:00:00   \n",
       "170225  12/12/2022   8:00:00   \n",
       "171337  18/12/2022   6:00:00   \n",
       "173064  31/12/2022  17:17:00   \n",
       "173065  31/12/2022  17:17:00   \n",
       "173066  31/12/2022  17:17:00   \n",
       "\n",
       "                                             localizacion  \\\n",
       "29308                                AUTOV. M-30, +03200E   \n",
       "29309                                AUTOV. M-30, +03200E   \n",
       "69764                                CALL. POLVORANCA, 13   \n",
       "69765                                CALL. POLVORANCA, 13   \n",
       "69766                                CALL. POLVORANCA, 13   \n",
       "72304                 AVDA. ALBUFERA / AVDA. PABLO NERUDA   \n",
       "72305                 AVDA. ALBUFERA / AVDA. PABLO NERUDA   \n",
       "72306                 AVDA. ALBUFERA / AVDA. PABLO NERUDA   \n",
       "115061                          RONDA. SUR / CALL. MARTOS   \n",
       "115062                          RONDA. SUR / CALL. MARTOS   \n",
       "122183                            CALL. REY FRANCISCO, 28   \n",
       "122184                            CALL. REY FRANCISCO, 28   \n",
       "123687                              AUTOV. M-23, KM 0,700   \n",
       "123688                              AUTOV. M-23, KM 0,700   \n",
       "123689                              AUTOV. M-23, KM 0,700   \n",
       "125475     PLAZA. AGUSTIN GONZALEZ / CALL. SANTA GENOVEVA   \n",
       "125669  URB. MANZANA DE AZCA / CALL. AGUSTIN DE BETANC...   \n",
       "125768  CALL. GENERAL RICARDOS / CALL. BATALLA DE TORR...   \n",
       "125858                 CALL. ARROYO DE LA MEDIA LEGUA, 72   \n",
       "125859                 CALL. ARROYO DE LA MEDIA LEGUA, 72   \n",
       "126829                         CALL. GENERAL RICARDOS, 15   \n",
       "168597                           CALL. FERNAN GONZALEZ, 2   \n",
       "168598                           CALL. FERNAN GONZALEZ, 2   \n",
       "169146  CALL. DOLORES FOLGUERAS / CALL. PICO DE LA MAL...   \n",
       "170224                                       A42 KM 6,300   \n",
       "170225                                       A42 KM 6,300   \n",
       "171337               AVDA. ALBUFERA / CIUDAD DE BARCELONA   \n",
       "173064          CALL. RAIMUNDO FERNANDEZ VILLAVERDE / edg   \n",
       "173065          CALL. RAIMUNDO FERNANDEZ VILLAVERDE / edg   \n",
       "173066          CALL. RAIMUNDO FERNANDEZ VILLAVERDE / edg   \n",
       "\n",
       "                   distrito                tipo_accidente  \\\n",
       "29308   FUENCARRAL-EL PARDO                       Alcance   \n",
       "29309   FUENCARRAL-EL PARDO                       Alcance   \n",
       "69764           CARABANCHEL  Choque contra obstáculo fijo   \n",
       "69765           CARABANCHEL  Choque contra obstáculo fijo   \n",
       "69766           CARABANCHEL  Choque contra obstáculo fijo   \n",
       "72304    PUENTE DE VALLECAS       Colisión fronto-lateral   \n",
       "72305    PUENTE DE VALLECAS       Colisión fronto-lateral   \n",
       "72306    PUENTE DE VALLECAS       Colisión fronto-lateral   \n",
       "115061   PUENTE DE VALLECAS                       Alcance   \n",
       "115062   PUENTE DE VALLECAS                       Alcance   \n",
       "122183      MONCLOA-ARAVACA             Colisión múltiple   \n",
       "122184      MONCLOA-ARAVACA             Colisión múltiple   \n",
       "123687            MORATALAZ             Colisión múltiple   \n",
       "123688            MORATALAZ             Colisión múltiple   \n",
       "123689            MORATALAZ             Colisión múltiple   \n",
       "125475        CIUDAD LINEAL                   Desconocido   \n",
       "125669               TETUÁN  Choque contra obstáculo fijo   \n",
       "125768          CARABANCHEL                       Alcance   \n",
       "125858            MORATALAZ           Atropello a persona   \n",
       "125859            MORATALAZ           Atropello a persona   \n",
       "126829          CARABANCHEL                         Caída   \n",
       "168597            SALAMANCA                       Alcance   \n",
       "168598            SALAMANCA                       Alcance   \n",
       "169146   PUENTE DE VALLECAS                         Caída   \n",
       "170224                USERA                       Alcance   \n",
       "170225                USERA                       Alcance   \n",
       "171337   PUENTE DE VALLECAS       Colisión fronto-lateral   \n",
       "173064               TETUÁN       Colisión fronto-lateral   \n",
       "173065               TETUÁN       Colisión fronto-lateral   \n",
       "173066               TETUÁN       Colisión fronto-lateral   \n",
       "\n",
       "       estado_meteorológico            tipo_vehiculo tipo_persona  \\\n",
       "29308             Despejado      Motocicleta > 125cc    Conductor   \n",
       "29309             Despejado                  Turismo    Conductor   \n",
       "69764             Despejado              Desconocido    Conductor   \n",
       "69765             Despejado                Furgoneta    Conductor   \n",
       "69766             Despejado                  Turismo    Conductor   \n",
       "72304             Despejado                  Turismo    Conductor   \n",
       "72305             Despejado                  Turismo    Conductor   \n",
       "72306             Despejado                  Turismo     Pasajero   \n",
       "115061            Despejado                Furgoneta    Conductor   \n",
       "115062            Despejado                  Turismo    Conductor   \n",
       "122183            Despejado              Desconocido    Conductor   \n",
       "122184            Despejado                  Turismo    Conductor   \n",
       "123687            Despejado                  Turismo    Conductor   \n",
       "123688            Despejado                  Turismo    Conductor   \n",
       "123689            Despejado                  Turismo    Conductor   \n",
       "125475          Desconocido                  Turismo    Conductor   \n",
       "125669            Despejado                  Turismo    Conductor   \n",
       "125768            Despejado              Desconocido    Conductor   \n",
       "125858         Se desconoce                  Turismo    Conductor   \n",
       "125859         Se desconoce                  Turismo       Peatón   \n",
       "126829          Desconocido  Motocicleta hasta 125cc    Conductor   \n",
       "168597          Desconocido                Furgoneta    Conductor   \n",
       "168598          Desconocido                  Turismo    Conductor   \n",
       "169146              Nublado               Ciclomotor    Conductor   \n",
       "170224          Desconocido                  Turismo    Conductor   \n",
       "170225          Desconocido                  Turismo    Conductor   \n",
       "171337            Despejado  Motocicleta hasta 125cc    Conductor   \n",
       "173064            Despejado                  Turismo    Conductor   \n",
       "173065            Despejado                  Turismo    Conductor   \n",
       "173066            Despejado                  Turismo     Pasajero   \n",
       "\n",
       "             rango_edad  cod_lesividad  coordenada_x_utm  coordenada_y_utm  \\\n",
       "29308   De 30 a 34 años            7.0               NaN               NaN   \n",
       "29309   De 50 a 54 años           14.0               NaN               NaN   \n",
       "69764       Desconocido           77.0               NaN               NaN   \n",
       "69765       Desconocido           77.0               NaN               NaN   \n",
       "69766       Desconocido           77.0               NaN               NaN   \n",
       "72304   De 30 a 34 años           14.0               NaN               NaN   \n",
       "72305   De 40 a 44 años           14.0               NaN               NaN   \n",
       "72306   De 25 a 29 años           14.0               NaN               NaN   \n",
       "115061      Desconocido           77.0               NaN               NaN   \n",
       "115062  De 18 a 20 años           77.0               NaN               NaN   \n",
       "122183      Desconocido           77.0               NaN               NaN   \n",
       "122184  De 21 a 24 años           77.0               NaN               NaN   \n",
       "123687  De 45 a 49 años            7.0               NaN               NaN   \n",
       "123688  De 50 a 54 años           14.0               NaN               NaN   \n",
       "123689  De 60 a 64 años           14.0               NaN               NaN   \n",
       "125475  De 45 a 49 años           77.0               NaN               NaN   \n",
       "125669      Desconocido           77.0               NaN               NaN   \n",
       "125768  De 45 a 49 años           14.0               NaN               NaN   \n",
       "125858  De 45 a 49 años           14.0               NaN               NaN   \n",
       "125859  De 45 a 49 años            3.0               NaN               NaN   \n",
       "126829  De 35 a 39 años           77.0               NaN               NaN   \n",
       "168597      Desconocido           77.0               NaN               NaN   \n",
       "168598  De 70 a 74 años           77.0               NaN               NaN   \n",
       "169146  De 18 a 20 años            7.0               NaN               NaN   \n",
       "170224  De 40 a 44 años           14.0               NaN               NaN   \n",
       "170225  De 45 a 49 años           14.0               NaN               NaN   \n",
       "171337  De 21 a 24 años            2.0               NaN               NaN   \n",
       "173064  De 25 a 29 años           77.0               NaN               NaN   \n",
       "173065  De 55 a 59 años           77.0               NaN               NaN   \n",
       "173066  De 25 a 29 años           77.0               NaN               NaN   \n",
       "\n",
       "       positiva_alcohol positiva_droga  \n",
       "29308                 N              N  \n",
       "29309                 N              N  \n",
       "69764                 N              N  \n",
       "69765                 N              N  \n",
       "69766                 N              N  \n",
       "72304                 N              N  \n",
       "72305                 N              N  \n",
       "72306                 N              N  \n",
       "115061                N              N  \n",
       "115062                N              N  \n",
       "122183                N              N  \n",
       "122184                N              N  \n",
       "123687                N              N  \n",
       "123688                N              N  \n",
       "123689                N              N  \n",
       "125475                S              N  \n",
       "125669                N              N  \n",
       "125768                N              N  \n",
       "125858                N              N  \n",
       "125859                N              N  \n",
       "126829                N              N  \n",
       "168597                N              N  \n",
       "168598                N              N  \n",
       "169146                N              N  \n",
       "170224                N              N  \n",
       "170225                N              N  \n",
       "171337                N              N  \n",
       "173064                N              N  \n",
       "173065                N              N  \n",
       "173066                N              N  "
      ]
     },
     "execution_count": 20,
     "metadata": {},
     "output_type": "execute_result"
    }
   ],
   "source": [
    "df_Madrid[df_Madrid['coordenada_x_utm'].isna()]"
   ]
  },
  {
   "cell_type": "code",
   "execution_count": 21,
   "id": "b96a5678-12be-4765-9b3c-483754dbc45d",
   "metadata": {
    "extensions": {
     "jupyter_dashboards": {
      "activeView": "grid_default",
      "views": {
       "grid_default": {
        "col": null,
        "height": 2,
        "hidden": true,
        "locked": true,
        "row": null,
        "width": 2
       }
      }
     }
    },
    "tags": []
   },
   "outputs": [],
   "source": [
    "# Procedemos a introducir los valores de las coordenadas\n",
    "df_Madrid.at[29308, 'coordenada_x_utm'] = 436432.168\n",
    "df_Madrid.at[29308, 'coordenada_y_utm'] = 4480599.260\n",
    "df_Madrid.at[29309, 'coordenada_x_utm'] = 436432.168\n",
    "df_Madrid.at[29309, 'coordenada_y_utm'] = 4480599.260\n",
    "\n",
    "df_Madrid.at[69764, 'coordenada_x_utm'] = 432477.331\n",
    "df_Madrid.at[69764, 'coordenada_y_utm'] = 4459959.173\n",
    "df_Madrid.at[69765, 'coordenada_x_utm'] = 432477.331\n",
    "df_Madrid.at[69765, 'coordenada_y_utm'] = 4459959.173\n",
    "df_Madrid.at[69766, 'coordenada_x_utm'] = 432477.331\n",
    "df_Madrid.at[69766, 'coordenada_y_utm'] = 4459959.173\n",
    "\n",
    "df_Madrid.at[72304, 'coordenada_x_utm'] = 445302.242\n",
    "df_Madrid.at[72304, 'coordenada_y_utm'] = 4471156.069\n",
    "df_Madrid.at[72305, 'coordenada_x_utm'] = 445302.242\n",
    "df_Madrid.at[72305, 'coordenada_y_utm'] = 4471156.069\n",
    "df_Madrid.at[72306, 'coordenada_x_utm'] = 445302.242\n",
    "df_Madrid.at[72306, 'coordenada_y_utm'] = 4471156.069\n",
    "\n",
    "df_Madrid.at[115061, 'coordenada_x_utm'] = 443894.339\n",
    "df_Madrid.at[115061, 'coordenada_y_utm'] = 4469676.887\n",
    "df_Madrid.at[115062, 'coordenada_x_utm'] = 443894.339\n",
    "df_Madrid.at[115062, 'coordenada_y_utm'] = 4469676.887\n",
    "\n",
    "df_Madrid.at[122183, 'coordenada_x_utm'] = 439092.309\n",
    "df_Madrid.at[122183, 'coordenada_y_utm'] = 4475315.926\n",
    "df_Madrid.at[122184, 'coordenada_x_utm'] = 439092.309\n",
    "df_Madrid.at[122184, 'coordenada_y_utm'] = 4475315.926\n",
    "\n",
    "df_Madrid.at[123687, 'coordenada_x_utm'] = 444731.062\n",
    "df_Madrid.at[123687, 'coordenada_y_utm'] = 4474213.984\n",
    "\n",
    "df_Madrid.at[123688, 'coordenada_x_utm'] = 444731.062\n",
    "df_Madrid.at[123688, 'coordenada_y_utm'] = 4474213.984\n",
    "df_Madrid.at[123689, 'coordenada_x_utm'] = 444731.062\n",
    "df_Madrid.at[123689, 'coordenada_y_utm'] = 4474213.984\n",
    "\n",
    "df_Madrid.at[125475, 'coordenada_x_utm'] = 445063.833\n",
    "df_Madrid.at[125475, 'coordenada_y_utm'] = 4475362.909\n",
    "\n",
    "df_Madrid.at[125669, 'coordenada_x_utm'] = 441111.754\n",
    "df_Madrid.at[125669, 'coordenada_y_utm'] = 4477732.611\n",
    "\n",
    "df_Madrid.at[125768, 'coordenada_x_utm'] = 438010.148\n",
    "df_Madrid.at[125768, 'coordenada_y_utm'] = 4471237.295\n",
    "\n",
    "df_Madrid.at[125858, 'coordenada_x_utm'] = 444790.650\n",
    "df_Madrid.at[125858, 'coordenada_y_utm'] = 4473965.359\n",
    "df_Madrid.at[125859, 'coordenada_x_utm'] = 444790.650\n",
    "df_Madrid.at[125859, 'coordenada_y_utm'] = 4473965.359\n",
    "\n",
    "df_Madrid.at[126829, 'coordenada_x_utm'] = 439110.247\n",
    "df_Madrid.at[126829, 'coordenada_y_utm'] = 4472050.069\n",
    "\n",
    "df_Madrid.at[168597, 'coordenada_x_utm'] = 442817.511\n",
    "df_Madrid.at[168597, 'coordenada_y_utm'] = 4475153.037\n",
    "df_Madrid.at[168598, 'coordenada_x_utm'] = 442817.511\n",
    "df_Madrid.at[168598, 'coordenada_y_utm'] = 4475153.037\n",
    "\n",
    "df_Madrid.at[169146, 'coordenada_x_utm'] = 444094.054\n",
    "df_Madrid.at[169146, 'coordenada_y_utm'] = 4471642.517\n",
    "\n",
    "df_Madrid.at[170224, 'coordenada_x_utm'] = 439539.588\n",
    "df_Madrid.at[170224, 'coordenada_y_utm'] = 4471257.897\n",
    "df_Madrid.at[170225, 'coordenada_x_utm'] = 439539.588\n",
    "df_Madrid.at[170225, 'coordenada_y_utm'] = 4471257.897\n",
    "\n",
    "df_Madrid.at[171337, 'coordenada_x_utm'] = 443229.003\n",
    "df_Madrid.at[171337, 'coordenada_y_utm'] = 4472166.963\n",
    "\n",
    "df_Madrid.at[173064, 'coordenada_x_utm'] = 440901.496\n",
    "df_Madrid.at[173064, 'coordenada_y_utm'] = 4477557.433\n",
    "df_Madrid.at[173065, 'coordenada_x_utm'] = 440901.496\n",
    "df_Madrid.at[173065, 'coordenada_y_utm'] = 4477557.433\n",
    "df_Madrid.at[173066, 'coordenada_x_utm'] = 440901.496\n",
    "df_Madrid.at[173066, 'coordenada_y_utm'] = 4477557.433"
   ]
  },
  {
   "cell_type": "code",
   "execution_count": 22,
   "id": "68c539f3-b762-44b8-a70e-9f3de8ab87fa",
   "metadata": {
    "extensions": {
     "jupyter_dashboards": {
      "activeView": "grid_default",
      "views": {
       "grid_default": {
        "col": null,
        "height": 2,
        "hidden": true,
        "locked": true,
        "row": null,
        "width": 2
       }
      }
     }
    },
    "tags": []
   },
   "outputs": [],
   "source": [
    "# Pasamos a entero para eliminar el decimal y luego a cadena\n",
    "df_Madrid['cod_lesividad'] = df_Madrid['cod_lesividad'].astype(int)\n",
    "df_Madrid['cod_lesividad'] = df_Madrid['cod_lesividad'].astype(str)"
   ]
  },
  {
   "cell_type": "code",
   "execution_count": 23,
   "id": "f55cbe94-607e-4e27-b172-62380915ff3e",
   "metadata": {
    "extensions": {
     "jupyter_dashboards": {
      "activeView": "grid_default",
      "views": {
       "grid_default": {
        "col": null,
        "height": 2,
        "hidden": true,
        "locked": true,
        "row": null,
        "width": 2
       }
      }
     }
    }
   },
   "outputs": [],
   "source": [
    "# Cambiamos el tipo de fecha de cadena a tipo fecha\n",
    "df_Madrid['fecha'] = pd.to_datetime(df_Madrid['fecha'], format='%d/%m/%Y')"
   ]
  },
  {
   "cell_type": "code",
   "execution_count": 24,
   "id": "bdafeeb8-fd12-44c1-a7ad-7c9302b7605a",
   "metadata": {
    "extensions": {
     "jupyter_dashboards": {
      "activeView": "grid_default",
      "views": {
       "grid_default": {
        "col": null,
        "height": 2,
        "hidden": true,
        "locked": true,
        "row": null,
        "width": 2
       }
      }
     }
    },
    "tags": []
   },
   "outputs": [
    {
     "name": "stdout",
     "output_type": "stream",
     "text": [
      "<class 'pandas.core.frame.DataFrame'>\n",
      "RangeIndex: 221910 entries, 0 to 221909\n",
      "Data columns (total 14 columns):\n",
      " #   Column                Non-Null Count   Dtype         \n",
      "---  ------                --------------   -----         \n",
      " 0   fecha                 221910 non-null  datetime64[ns]\n",
      " 1   hora                  221910 non-null  object        \n",
      " 2   localizacion          221910 non-null  object        \n",
      " 3   distrito              221910 non-null  object        \n",
      " 4   tipo_accidente        221910 non-null  object        \n",
      " 5   estado_meteorológico  221910 non-null  object        \n",
      " 6   tipo_vehiculo         221910 non-null  object        \n",
      " 7   tipo_persona          221910 non-null  object        \n",
      " 8   rango_edad            221910 non-null  object        \n",
      " 9   cod_lesividad         221910 non-null  object        \n",
      " 10  coordenada_x_utm      221910 non-null  float64       \n",
      " 11  coordenada_y_utm      221910 non-null  float64       \n",
      " 12  positiva_alcohol      221910 non-null  object        \n",
      " 13  positiva_droga        221910 non-null  object        \n",
      "dtypes: datetime64[ns](1), float64(2), object(11)\n",
      "memory usage: 23.7+ MB\n"
     ]
    }
   ],
   "source": [
    "df_Madrid.info()"
   ]
  },
  {
   "cell_type": "markdown",
   "id": "eae30b62-4f85-4bf9-83c9-3f6ece4bd2a3",
   "metadata": {
    "extensions": {
     "jupyter_dashboards": {
      "activeView": "grid_default",
      "views": {
       "grid_default": {
        "col": null,
        "height": 2,
        "hidden": true,
        "locked": true,
        "row": null,
        "width": 2
       }
      }
     }
    }
   },
   "source": [
    "## Creación de nuevas columnas."
   ]
  },
  {
   "cell_type": "code",
   "execution_count": 25,
   "id": "3792e184-f193-4575-9656-18acbe690e8f",
   "metadata": {
    "extensions": {
     "jupyter_dashboards": {
      "activeView": "grid_default",
      "views": {
       "grid_default": {
        "col": null,
        "height": 2,
        "hidden": true,
        "locked": true,
        "row": null,
        "width": 2
       }
      }
     }
    }
   },
   "outputs": [],
   "source": [
    "# Crea una nueva columna para las franjas horarias\n",
    "def asignar_franja_horaria(hora):\n",
    "    hora_inicio = hora.split(':')[0] + ':00'\n",
    "    hora_fin = hora.split(':')[0] + ':59'\n",
    "    return f\"{hora_inicio} - {hora_fin}\"\n",
    "\n",
    "df_Madrid['franja_horaria'] = df_Madrid['hora'].apply(asignar_franja_horaria)"
   ]
  },
  {
   "cell_type": "code",
   "execution_count": 26,
   "id": "10c82b29-4ec7-4965-800d-7b3f6166b64f",
   "metadata": {
    "extensions": {
     "jupyter_dashboards": {
      "activeView": "grid_default",
      "views": {
       "grid_default": {
        "col": null,
        "height": 2,
        "hidden": true,
        "locked": true,
        "row": null,
        "width": 2
       }
      }
     }
    }
   },
   "outputs": [],
   "source": [
    "# Creamos nueva columna de dia de la semana, primero transformamos la clase de la columna a datetime\n",
    "import calendar\n",
    "\n",
    "dias_semana_espanol = {0: 'lunes', 1: 'martes', 2: 'miércoles', 3: 'jueves', 4: 'viernes', 5: 'sábado', 6: 'domingo'}\n",
    "df_Madrid['dia_semana'] = df_Madrid['fecha'].dt.dayofweek.map(dias_semana_espanol)"
   ]
  },
  {
   "cell_type": "code",
   "execution_count": 27,
   "id": "747b3e3c-3ef0-4445-994e-13ac60ba5c7a",
   "metadata": {
    "extensions": {
     "jupyter_dashboards": {
      "activeView": "grid_default",
      "views": {
       "grid_default": {
        "col": null,
        "height": 2,
        "hidden": true,
        "locked": true,
        "row": null,
        "width": 2
       }
      }
     }
    }
   },
   "outputs": [],
   "source": [
    "# Nueva columna del mes en español\n",
    "mes_espanol = {1: 'enero', 2: 'febrero', 3: 'marzo', \n",
    "               4: 'abril', 5: 'mayo', 6: 'junio',\n",
    "               7: 'julio', 8: 'agosto', 9: 'septiembre', \n",
    "               10: 'octubre', 11: 'noviembre', 12: 'diciembre'}\n",
    "df_Madrid['mes'] = df_Madrid['fecha'].dt.month.map(mes_espanol)"
   ]
  },
  {
   "cell_type": "code",
   "execution_count": 28,
   "id": "53d42996-e70d-4154-baba-c39b29ab8c19",
   "metadata": {
    "extensions": {
     "jupyter_dashboards": {
      "activeView": "grid_default",
      "views": {
       "grid_default": {
        "col": null,
        "height": 2,
        "hidden": true,
        "locked": true,
        "row": null,
        "width": 2
       }
      }
     }
    }
   },
   "outputs": [],
   "source": [
    "from pyproj import Transformer\n",
    "\n",
    "# Definir el transformer para la conversión de UTM \"EPSG:25830\" a latitud/longitud \"EPSG:4326\"\n",
    "transformer = Transformer.from_crs(\"EPSG:25830\", \"EPSG:4326\")\n",
    "\n",
    "# Función para convertir coordenadas UTM a longitud y latitud\n",
    "def utm_to_lat_lon(x, y):\n",
    "    lon, lat = transformer.transform(x, y)\n",
    "    return lon, lat\n",
    "\n",
    "# Aplicar la función a las columnas 'coordenada_x_utm' y 'coordenada_y_utm'\n",
    "df_Madrid['latitud'], df_Madrid['longitud'] = utm_to_lat_lon(df_Madrid['coordenada_x_utm'].values, \n",
    "                                                             df_Madrid['coordenada_y_utm'].values)"
   ]
  },
  {
   "cell_type": "code",
   "execution_count": 29,
   "id": "d0ed2504-fa34-4b74-aac9-07cc236ed9b9",
   "metadata": {},
   "outputs": [
    {
     "data": {
      "text/html": [
       "<div>\n",
       "<style scoped>\n",
       "    .dataframe tbody tr th:only-of-type {\n",
       "        vertical-align: middle;\n",
       "    }\n",
       "\n",
       "    .dataframe tbody tr th {\n",
       "        vertical-align: top;\n",
       "    }\n",
       "\n",
       "    .dataframe thead th {\n",
       "        text-align: right;\n",
       "    }\n",
       "</style>\n",
       "<table border=\"1\" class=\"dataframe\">\n",
       "  <thead>\n",
       "    <tr style=\"text-align: right;\">\n",
       "      <th></th>\n",
       "      <th>fecha</th>\n",
       "      <th>hora</th>\n",
       "      <th>localizacion</th>\n",
       "      <th>distrito</th>\n",
       "      <th>tipo_accidente</th>\n",
       "      <th>estado_meteorológico</th>\n",
       "      <th>tipo_vehiculo</th>\n",
       "      <th>tipo_persona</th>\n",
       "      <th>rango_edad</th>\n",
       "      <th>cod_lesividad</th>\n",
       "      <th>coordenada_x_utm</th>\n",
       "      <th>coordenada_y_utm</th>\n",
       "      <th>positiva_alcohol</th>\n",
       "      <th>positiva_droga</th>\n",
       "      <th>franja_horaria</th>\n",
       "      <th>dia_semana</th>\n",
       "      <th>mes</th>\n",
       "      <th>latitud</th>\n",
       "      <th>longitud</th>\n",
       "    </tr>\n",
       "  </thead>\n",
       "  <tbody>\n",
       "    <tr>\n",
       "      <th>197869</th>\n",
       "      <td>2023-07-03</td>\n",
       "      <td>8:50:00</td>\n",
       "      <td>AEROP. TERMINAL T-4, 0</td>\n",
       "      <td>BARAJAS</td>\n",
       "      <td>Colisión lateral</td>\n",
       "      <td>Despejado</td>\n",
       "      <td>Todo terreno</td>\n",
       "      <td>Conductor</td>\n",
       "      <td>De 50 a 54 años</td>\n",
       "      <td>77</td>\n",
       "      <td>0.0</td>\n",
       "      <td>0.0</td>\n",
       "      <td>N</td>\n",
       "      <td>N</td>\n",
       "      <td>8:00 - 8:59</td>\n",
       "      <td>lunes</td>\n",
       "      <td>julio</td>\n",
       "      <td>0.0</td>\n",
       "      <td>-7.488744</td>\n",
       "    </tr>\n",
       "    <tr>\n",
       "      <th>197870</th>\n",
       "      <td>2023-07-03</td>\n",
       "      <td>8:50:00</td>\n",
       "      <td>AEROP. TERMINAL T-4, 0</td>\n",
       "      <td>BARAJAS</td>\n",
       "      <td>Colisión lateral</td>\n",
       "      <td>Despejado</td>\n",
       "      <td>Turismo</td>\n",
       "      <td>Conductor</td>\n",
       "      <td>De 35 a 39 años</td>\n",
       "      <td>77</td>\n",
       "      <td>0.0</td>\n",
       "      <td>0.0</td>\n",
       "      <td>N</td>\n",
       "      <td>N</td>\n",
       "      <td>8:00 - 8:59</td>\n",
       "      <td>lunes</td>\n",
       "      <td>julio</td>\n",
       "      <td>0.0</td>\n",
       "      <td>-7.488744</td>\n",
       "    </tr>\n",
       "    <tr>\n",
       "      <th>208840</th>\n",
       "      <td>2023-10-04</td>\n",
       "      <td>14:27:00</td>\n",
       "      <td>CALL. CEA BERMUDEZ, 57</td>\n",
       "      <td>CHAMBERÍ</td>\n",
       "      <td>Caída</td>\n",
       "      <td>Despejado</td>\n",
       "      <td>VMU eléctrico</td>\n",
       "      <td>Conductor</td>\n",
       "      <td>De 50 a 54 años</td>\n",
       "      <td>7</td>\n",
       "      <td>0.0</td>\n",
       "      <td>0.0</td>\n",
       "      <td>N</td>\n",
       "      <td>N</td>\n",
       "      <td>14:00 - 14:59</td>\n",
       "      <td>miércoles</td>\n",
       "      <td>octubre</td>\n",
       "      <td>0.0</td>\n",
       "      <td>-7.488744</td>\n",
       "    </tr>\n",
       "  </tbody>\n",
       "</table>\n",
       "</div>"
      ],
      "text/plain": [
       "            fecha      hora            localizacion  distrito  \\\n",
       "197869 2023-07-03   8:50:00  AEROP. TERMINAL T-4, 0   BARAJAS   \n",
       "197870 2023-07-03   8:50:00  AEROP. TERMINAL T-4, 0   BARAJAS   \n",
       "208840 2023-10-04  14:27:00  CALL. CEA BERMUDEZ, 57  CHAMBERÍ   \n",
       "\n",
       "          tipo_accidente estado_meteorológico  tipo_vehiculo tipo_persona  \\\n",
       "197869  Colisión lateral            Despejado   Todo terreno    Conductor   \n",
       "197870  Colisión lateral            Despejado        Turismo    Conductor   \n",
       "208840             Caída            Despejado  VMU eléctrico    Conductor   \n",
       "\n",
       "             rango_edad cod_lesividad  coordenada_x_utm  coordenada_y_utm  \\\n",
       "197869  De 50 a 54 años            77               0.0               0.0   \n",
       "197870  De 35 a 39 años            77               0.0               0.0   \n",
       "208840  De 50 a 54 años             7               0.0               0.0   \n",
       "\n",
       "       positiva_alcohol positiva_droga franja_horaria dia_semana      mes  \\\n",
       "197869                N              N    8:00 - 8:59      lunes    julio   \n",
       "197870                N              N    8:00 - 8:59      lunes    julio   \n",
       "208840                N              N  14:00 - 14:59  miércoles  octubre   \n",
       "\n",
       "        latitud  longitud  \n",
       "197869      0.0 -7.488744  \n",
       "197870      0.0 -7.488744  \n",
       "208840      0.0 -7.488744  "
      ]
     },
     "execution_count": 29,
     "metadata": {},
     "output_type": "execute_result"
    }
   ],
   "source": [
    "latitud_cerca_de_cero = df_Madrid[df_Madrid['latitud'].abs() < 0.000001]\n",
    "latitud_cerca_de_cero"
   ]
  },
  {
   "cell_type": "code",
   "execution_count": 30,
   "id": "52b47d27-11c7-454b-a543-e8eb3eb0a9ab",
   "metadata": {},
   "outputs": [],
   "source": [
    "df_Madrid.at[197869, 'latitud'] = 40.490622\n",
    "df_Madrid.at[197869, 'longitud'] = -3.5950471\n",
    "df_Madrid.at[197870, 'latitud'] = 40.490622\n",
    "df_Madrid.at[197870, 'longitud'] = -3.5950471\n",
    "df_Madrid.at[208840, 'latitud'] = 40.43902\n",
    "df_Madrid.at[208840, 'longitud'] = -3.714237"
   ]
  },
  {
   "cell_type": "code",
   "execution_count": 31,
   "id": "e5703c0d-07f2-43e0-88c0-9e4748255d18",
   "metadata": {
    "extensions": {
     "jupyter_dashboards": {
      "activeView": "grid_default",
      "views": {
       "grid_default": {
        "col": null,
        "height": 2,
        "hidden": true,
        "locked": true,
        "row": null,
        "width": 2
       }
      }
     }
    }
   },
   "outputs": [
    {
     "data": {
      "text/plain": [
       "fecha                   0\n",
       "hora                    0\n",
       "localizacion            0\n",
       "distrito                0\n",
       "tipo_accidente          0\n",
       "estado_meteorológico    0\n",
       "tipo_vehiculo           0\n",
       "tipo_persona            0\n",
       "rango_edad              0\n",
       "cod_lesividad           0\n",
       "coordenada_x_utm        0\n",
       "coordenada_y_utm        0\n",
       "positiva_alcohol        0\n",
       "positiva_droga          0\n",
       "franja_horaria          0\n",
       "dia_semana              0\n",
       "mes                     0\n",
       "latitud                 0\n",
       "longitud                0\n",
       "dtype: int64"
      ]
     },
     "execution_count": 31,
     "metadata": {},
     "output_type": "execute_result"
    }
   ],
   "source": [
    "df_Madrid.isnull().sum()"
   ]
  },
  {
   "cell_type": "code",
   "execution_count": 32,
   "id": "65481879-87bd-4dd2-9f24-29aff874b608",
   "metadata": {
    "extensions": {
     "jupyter_dashboards": {
      "activeView": "grid_default",
      "views": {
       "grid_default": {
        "col": null,
        "height": 2,
        "hidden": true,
        "locked": true,
        "row": null,
        "width": 2
       }
      }
     }
    }
   },
   "outputs": [],
   "source": [
    "# Eliminaremos las columnas de coordenadas UTM, ya que solo trabajaremos con latitud y longitud\n",
    "df_Madrid.drop(columns=['coordenada_x_utm','coordenada_y_utm'], inplace=True)"
   ]
  },
  {
   "cell_type": "code",
   "execution_count": 33,
   "id": "29c4df05-71a7-45ee-a087-82d029fec484",
   "metadata": {
    "extensions": {
     "jupyter_dashboards": {
      "activeView": "grid_default",
      "views": {
       "grid_default": {
        "col": null,
        "height": 2,
        "hidden": true,
        "locked": true,
        "row": null,
        "width": 2
       }
      }
     }
    },
    "tags": []
   },
   "outputs": [],
   "source": [
    "# Guardamos el dataframe en un archivo para ir explorando los resultados\n",
    "df_Madrid.to_csv('C:/CSV/' + 'Madrid_Final.csv', index=False, decimal=',')"
   ]
  },
  {
   "cell_type": "code",
   "execution_count": 34,
   "id": "93f24e00-db9d-46a7-a1bd-bbf24f2910e4",
   "metadata": {
    "extensions": {
     "jupyter_dashboards": {
      "activeView": "grid_default",
      "views": {
       "grid_default": {
        "col": null,
        "height": 2,
        "hidden": true,
        "locked": true,
        "row": null,
        "width": 2
       }
      }
     }
    },
    "tags": []
   },
   "outputs": [
    {
     "name": "stdout",
     "output_type": "stream",
     "text": [
      "<class 'pandas.core.frame.DataFrame'>\n",
      "RangeIndex: 221910 entries, 0 to 221909\n",
      "Data columns (total 17 columns):\n",
      " #   Column                Non-Null Count   Dtype         \n",
      "---  ------                --------------   -----         \n",
      " 0   fecha                 221910 non-null  datetime64[ns]\n",
      " 1   hora                  221910 non-null  object        \n",
      " 2   localizacion          221910 non-null  object        \n",
      " 3   distrito              221910 non-null  object        \n",
      " 4   tipo_accidente        221910 non-null  object        \n",
      " 5   estado_meteorológico  221910 non-null  object        \n",
      " 6   tipo_vehiculo         221910 non-null  object        \n",
      " 7   tipo_persona          221910 non-null  object        \n",
      " 8   rango_edad            221910 non-null  object        \n",
      " 9   cod_lesividad         221910 non-null  object        \n",
      " 10  positiva_alcohol      221910 non-null  object        \n",
      " 11  positiva_droga        221910 non-null  object        \n",
      " 12  franja_horaria        221910 non-null  object        \n",
      " 13  dia_semana            221910 non-null  object        \n",
      " 14  mes                   221910 non-null  object        \n",
      " 15  latitud               221910 non-null  float64       \n",
      " 16  longitud              221910 non-null  float64       \n",
      "dtypes: datetime64[ns](1), float64(2), object(14)\n",
      "memory usage: 28.8+ MB\n"
     ]
    }
   ],
   "source": [
    "df_Madrid.info()"
   ]
  },
  {
   "cell_type": "code",
   "execution_count": 35,
   "id": "9c1f0f8d-30ef-497c-9b1e-29500300ec08",
   "metadata": {
    "extensions": {
     "jupyter_dashboards": {
      "activeView": "grid_default",
      "views": {
       "grid_default": {
        "col": null,
        "height": 2,
        "hidden": true,
        "locked": true,
        "row": null,
        "width": 2
       }
      }
     }
    }
   },
   "outputs": [
    {
     "data": {
      "text/html": [
       "<div>\n",
       "<style scoped>\n",
       "    .dataframe tbody tr th:only-of-type {\n",
       "        vertical-align: middle;\n",
       "    }\n",
       "\n",
       "    .dataframe tbody tr th {\n",
       "        vertical-align: top;\n",
       "    }\n",
       "\n",
       "    .dataframe thead th {\n",
       "        text-align: right;\n",
       "    }\n",
       "</style>\n",
       "<table border=\"1\" class=\"dataframe\">\n",
       "  <thead>\n",
       "    <tr style=\"text-align: right;\">\n",
       "      <th></th>\n",
       "      <th>fecha</th>\n",
       "      <th>hora</th>\n",
       "      <th>localizacion</th>\n",
       "      <th>distrito</th>\n",
       "      <th>tipo_accidente</th>\n",
       "      <th>estado_meteorológico</th>\n",
       "      <th>tipo_vehiculo</th>\n",
       "      <th>tipo_persona</th>\n",
       "      <th>rango_edad</th>\n",
       "      <th>cod_lesividad</th>\n",
       "      <th>positiva_alcohol</th>\n",
       "      <th>positiva_droga</th>\n",
       "      <th>franja_horaria</th>\n",
       "      <th>dia_semana</th>\n",
       "      <th>mes</th>\n",
       "      <th>latitud</th>\n",
       "      <th>longitud</th>\n",
       "    </tr>\n",
       "  </thead>\n",
       "  <tbody>\n",
       "    <tr>\n",
       "      <th>0</th>\n",
       "      <td>2019-02-04</td>\n",
       "      <td>9:10:00</td>\n",
       "      <td>CALL. ALBERTO AGUILERA, 1</td>\n",
       "      <td>CENTRO</td>\n",
       "      <td>Colisión lateral</td>\n",
       "      <td>Despejado</td>\n",
       "      <td>Motocicleta &gt; 125cc</td>\n",
       "      <td>Conductor</td>\n",
       "      <td>De 45 a 49 años</td>\n",
       "      <td>7</td>\n",
       "      <td>N</td>\n",
       "      <td>N</td>\n",
       "      <td>9:00 - 9:59</td>\n",
       "      <td>lunes</td>\n",
       "      <td>febrero</td>\n",
       "      <td>40.429592</td>\n",
       "      <td>-3.706555</td>\n",
       "    </tr>\n",
       "    <tr>\n",
       "      <th>1</th>\n",
       "      <td>2019-02-04</td>\n",
       "      <td>9:10:00</td>\n",
       "      <td>CALL. ALBERTO AGUILERA, 1</td>\n",
       "      <td>CENTRO</td>\n",
       "      <td>Colisión lateral</td>\n",
       "      <td>Despejado</td>\n",
       "      <td>Turismo</td>\n",
       "      <td>Conductor</td>\n",
       "      <td>De 30 a 34 años</td>\n",
       "      <td>7</td>\n",
       "      <td>N</td>\n",
       "      <td>N</td>\n",
       "      <td>9:00 - 9:59</td>\n",
       "      <td>lunes</td>\n",
       "      <td>febrero</td>\n",
       "      <td>40.429592</td>\n",
       "      <td>-3.706555</td>\n",
       "    </tr>\n",
       "    <tr>\n",
       "      <th>2</th>\n",
       "      <td>2019-01-01</td>\n",
       "      <td>3:45:00</td>\n",
       "      <td>PASEO. SANTA MARIA DE LA CABEZA / PLAZA. ELIPTICA</td>\n",
       "      <td>CARABANCHEL</td>\n",
       "      <td>Alcance</td>\n",
       "      <td>Desconocido</td>\n",
       "      <td>Furgoneta</td>\n",
       "      <td>Conductor</td>\n",
       "      <td>De 40 a 44 años</td>\n",
       "      <td>77</td>\n",
       "      <td>S</td>\n",
       "      <td>N</td>\n",
       "      <td>3:00 - 3:59</td>\n",
       "      <td>martes</td>\n",
       "      <td>enero</td>\n",
       "      <td>40.385903</td>\n",
       "      <td>-3.717037</td>\n",
       "    </tr>\n",
       "  </tbody>\n",
       "</table>\n",
       "</div>"
      ],
      "text/plain": [
       "       fecha     hora                                       localizacion  \\\n",
       "0 2019-02-04  9:10:00                          CALL. ALBERTO AGUILERA, 1   \n",
       "1 2019-02-04  9:10:00                          CALL. ALBERTO AGUILERA, 1   \n",
       "2 2019-01-01  3:45:00  PASEO. SANTA MARIA DE LA CABEZA / PLAZA. ELIPTICA   \n",
       "\n",
       "      distrito    tipo_accidente estado_meteorológico        tipo_vehiculo  \\\n",
       "0       CENTRO  Colisión lateral            Despejado  Motocicleta > 125cc   \n",
       "1       CENTRO  Colisión lateral            Despejado              Turismo   \n",
       "2  CARABANCHEL           Alcance          Desconocido            Furgoneta   \n",
       "\n",
       "  tipo_persona       rango_edad cod_lesividad positiva_alcohol positiva_droga  \\\n",
       "0    Conductor  De 45 a 49 años             7                N              N   \n",
       "1    Conductor  De 30 a 34 años             7                N              N   \n",
       "2    Conductor  De 40 a 44 años            77                S              N   \n",
       "\n",
       "  franja_horaria dia_semana      mes    latitud  longitud  \n",
       "0    9:00 - 9:59      lunes  febrero  40.429592 -3.706555  \n",
       "1    9:00 - 9:59      lunes  febrero  40.429592 -3.706555  \n",
       "2    3:00 - 3:59     martes    enero  40.385903 -3.717037  "
      ]
     },
     "execution_count": 35,
     "metadata": {},
     "output_type": "execute_result"
    }
   ],
   "source": [
    "df_Madrid.head(3)"
   ]
  },
  {
   "cell_type": "markdown",
   "id": "0cae5512-fca6-499a-af6c-7cb4ab9d777e",
   "metadata": {},
   "source": [
    "## Modelo de predicción"
   ]
  },
  {
   "cell_type": "code",
   "execution_count": 39,
   "id": "336e6222-9406-40d9-a9ad-6783643b4424",
   "metadata": {},
   "outputs": [
    {
     "name": "stdout",
     "output_type": "stream",
     "text": [
      "Reemplazo realizado en X.\n",
      "Datos de entrenamiento y prueba divididos.\n",
      "Columnas categóricas: ['franja_horaria', 'estado_meteorológico', 'rango_edad', 'distrito', 'tipo_accidente', 'tipo_vehiculo', 'tipo_persona', 'positiva_alcohol', 'positiva_droga', 'dia_semana', 'mes']\n",
      "Preprocesador creado.\n",
      "Pipeline creado.\n",
      "Evaluando modelo con validación cruzada...\n",
      "Porcentaje de acierto en validación cruzada: 0.5931402295942365\n",
      "Desviación estándar en validación cruzada: 0.0020153821257838616\n",
      "Entrenando el modelo completo...\n",
      "Modelo entrenado.\n",
      "Predicciones realizadas.\n",
      "Porcentaje de acierto en nuestro banco de test: 0.6027668874769051\n",
      "              precision    recall  f1-score   support\n",
      "\n",
      "           1       0.21      0.05      0.08      1289\n",
      "          14       0.57      0.61      0.59     13469\n",
      "           2       0.20      0.09      0.12      1741\n",
      "           3       0.16      0.05      0.08       489\n",
      "           4       0.00      0.00      0.00        26\n",
      "           5       0.24      0.03      0.05       548\n",
      "           6       0.20      0.04      0.06      1111\n",
      "           7       0.36      0.44      0.40      5634\n",
      "          77       0.73      0.79      0.76     20075\n",
      "\n",
      "    accuracy                           0.60     44382\n",
      "   macro avg       0.30      0.23      0.24     44382\n",
      "weighted avg       0.57      0.60      0.58     44382\n",
      "\n",
      "Tiempo de duración en hacer el modelo de predicción:  1605.3360102176666\n"
     ]
    }
   ],
   "source": [
    "from sklearn.model_selection import train_test_split, cross_val_score\n",
    "from sklearn.preprocessing import OneHotEncoder, StandardScaler\n",
    "from sklearn.compose import ColumnTransformer\n",
    "from sklearn.pipeline import Pipeline\n",
    "from sklearn.ensemble import RandomForestClassifier\n",
    "from sklearn.metrics import accuracy_score, classification_report\n",
    "from sklearn.model_selection import KFold\n",
    "import numpy as np\n",
    "import time\n",
    "\n",
    "inicio=time.time()\n",
    "X = df_Madrid.drop('cod_lesividad', axis=1)\n",
    "y = df_Madrid['cod_lesividad']\n",
    "\n",
    "# Dividir datos en conjuntos de entrenamiento y prueba\n",
    "X_train, X_test, y_train, y_test = train_test_split(X, y, test_size=0.2, random_state=42)\n",
    "print(\"Datos de entrenamiento y prueba divididos.\")\n",
    "\n",
    "# Definir columnas categóricas explícitamente (excluyendo las numéricas y otras columnas específicas)\n",
    "cat_features = ['franja_horaria', 'estado_meteorológico', 'rango_edad', 'distrito', 'tipo_accidente', \n",
    "                'tipo_vehiculo', 'tipo_persona', 'positiva_alcohol', 'positiva_droga', 'dia_semana', 'mes']\n",
    "\n",
    "# Verificar que estas columnas existan en el DataFrame\n",
    "print(\"Columnas categóricas:\", cat_features)\n",
    "\n",
    "# Crear preprocesador solo para las columnas categóricas\n",
    "preprocessor = ColumnTransformer(\n",
    "    transformers=[\n",
    "        ('cat', OneHotEncoder(handle_unknown='ignore'), cat_features)\n",
    "    ])\n",
    "print(\"Preprocesador creado.\")\n",
    "\n",
    "# Crear pipeline con preprocesador y modelo\n",
    "model = Pipeline(steps=[\n",
    "    ('preprocessor', preprocessor),\n",
    "    ('classifier', RandomForestClassifier(random_state=42))\n",
    "])\n",
    "print(\"Pipeline creado.\")\n",
    "\n",
    "# Evaluar el modelo usando validación cruzada\n",
    "print(\"Evaluando modelo con validación cruzada...\")\n",
    "cv_scores = cross_val_score(model, X_train, y_train, cv=5)\n",
    "print(\"Porcentaje de acierto en validación cruzada:\", np.mean(cv_scores))\n",
    "print(\"Desviación estándar en validación cruzada:\", np.std(cv_scores))\n",
    "\n",
    "# Entrenar el modelo completo y predecir en el conjunto de prueba\n",
    "print(\"Entrenando el modelo completo...\")\n",
    "model.fit(X_train, y_train)\n",
    "print(\"Modelo entrenado.\")\n",
    "y_pred = model.predict(X_test)\n",
    "print(\"Predicciones realizadas.\")\n",
    "\n",
    "# Evaluar el modelo en el conjunto de prueba\n",
    "print(\"Porcentaje de acierto en nuestro banco de test:\", accuracy_score(y_test, y_pred))\n",
    "print(classification_report(y_test, y_pred))\n",
    "final = time.time()\n",
    "duracion = final-inicio\n",
    "print (\"Tiempo de duración en hacer el modelo de predicción: \",duracion)"
   ]
  },
  {
   "cell_type": "code",
   "execution_count": 40,
   "id": "6e41f0ea-7773-41f2-9499-0111c1404600",
   "metadata": {},
   "outputs": [
    {
     "name": "stdout",
     "output_type": "stream",
     "text": [
      "Datos de entrenamiento y prueba divididos.\n",
      "Columnas numéricas: ['latitud', 'longitud']\n",
      "Columnas categóricas: ['franja_horaria', 'estado_meteorológico', 'rango_edad', 'distrito', 'tipo_accidente', 'tipo_vehiculo', 'tipo_persona', 'positiva_alcohol', 'positiva_droga', 'dia_semana', 'mes']\n",
      "Preprocesador creado.\n",
      "Pipeline creado.\n",
      "Porcentaje de acierto en validación cruzada: 0.6141397359324946\n",
      "Desviación estándar en validación cruzada: 0.0009870389760889564\n",
      "Modelo entrenado y predicciones realizadas.\n",
      "Porcentaje de acierto en nuestro banco de test: 0.6272362669550718\n",
      "              precision    recall  f1-score   support\n",
      "\n",
      "           1       0.22      0.05      0.08      1289\n",
      "          14       0.59      0.64      0.61     13469\n",
      "           2       0.25      0.09      0.13      1741\n",
      "           3       0.24      0.06      0.10       489\n",
      "           4       0.00      0.00      0.00        26\n",
      "           5       0.30      0.03      0.06       548\n",
      "           6       0.24      0.04      0.07      1111\n",
      "           7       0.37      0.46      0.41      5634\n",
      "          77       0.76      0.82      0.79     20075\n",
      "\n",
      "    accuracy                           0.63     44382\n",
      "   macro avg       0.33      0.24      0.25     44382\n",
      "weighted avg       0.60      0.63      0.60     44382\n",
      "\n",
      "Tiempo de duración en hacer el modelo de predicción:  1832.846591949463\n"
     ]
    }
   ],
   "source": [
    "from sklearn.model_selection import train_test_split, cross_val_score\n",
    "from sklearn.preprocessing import OneHotEncoder, StandardScaler\n",
    "from sklearn.compose import ColumnTransformer\n",
    "from sklearn.pipeline import Pipeline\n",
    "from sklearn.ensemble import RandomForestClassifier\n",
    "from sklearn.metrics import accuracy_score, classification_report\n",
    "from sklearn.model_selection import KFold\n",
    "import numpy as np\n",
    "import time\n",
    "\n",
    "inicio=time.time()\n",
    "# Separamos características (X) y la variable objetivo (y)\n",
    "X = df_Madrid.drop('cod_lesividad', axis=1)\n",
    "y = df_Madrid['cod_lesividad']\n",
    "\n",
    "\n",
    "# Dividimos datos en conjuntos de entrenamiento y prueba\n",
    "X_train, X_test, y_train, y_test = train_test_split(X, y, test_size=0.2, random_state=42)\n",
    "print(\"Datos de entrenamiento y prueba divididos.\")\n",
    "\n",
    "# Definimos columnas numéricas\n",
    "num_features = ['latitud', 'longitud']\n",
    "\n",
    "# Creamos la lista de columnas categóricas de manera explícita\n",
    "cat_features = ['franja_horaria', 'estado_meteorológico', 'rango_edad', 'distrito', 'tipo_accidente', \n",
    "                'tipo_vehiculo', 'tipo_persona', 'positiva_alcohol', 'positiva_droga', 'dia_semana', 'mes']\n",
    "\n",
    "# Verificamos que estas columnas existan en el DataFrame\n",
    "print(\"Columnas numéricas:\", num_features)\n",
    "print(\"Columnas categóricas:\", cat_features)\n",
    "\n",
    "# Creamos preprocesador\n",
    "preprocessor = ColumnTransformer(\n",
    "    transformers=[\n",
    "        ('num', StandardScaler(), num_features),\n",
    "        ('cat', OneHotEncoder(handle_unknown='ignore'), cat_features)\n",
    "    ])\n",
    "print(\"Preprocesador creado.\")\n",
    "\n",
    "# Creamos pipeline con preprocesador y modelo\n",
    "model = Pipeline(steps=[\n",
    "    ('preprocessor', preprocessor),\n",
    "    ('classifier', RandomForestClassifier(random_state=42))\n",
    "])\n",
    "print(\"Pipeline creado.\")\n",
    "\n",
    "# Evaluamos el modelo usando validación cruzada\n",
    "cv_scores = cross_val_score(model, X_train, y_train, cv=5)\n",
    "print(\"Porcentaje de acierto en validación cruzada:\", np.mean(cv_scores))\n",
    "print(\"Desviación estándar en validación cruzada:\", np.std(cv_scores))\n",
    "\n",
    "# Entrenamos el modelo completo y predecir en el conjunto de prueba\n",
    "model.fit(X_train, y_train)\n",
    "y_pred = model.predict(X_test)\n",
    "print(\"Modelo entrenado y predicciones realizadas.\")\n",
    "\n",
    "# Evaluamos el modelo en el conjunto de prueba\n",
    "print(\"Porcentaje de acierto en nuestro banco de test:\", accuracy_score(y_test, y_pred))\n",
    "print(classification_report(y_test, y_pred))\n",
    "final = time.time()\n",
    "duracion = final-inicio\n",
    "print (\"Tiempo de duración en hacer el modelo de predicción: \",duracion)"
   ]
  },
  {
   "cell_type": "code",
   "execution_count": 43,
   "id": "d41e3657-1e46-4442-8144-ab3e19741271",
   "metadata": {},
   "outputs": [
    {
     "name": "stdout",
     "output_type": "stream",
     "text": [
      "Datos de entrenamiento y prueba divididos.\n",
      "Columnas categóricas: ['franja_horaria', 'estado_meteorológico', 'rango_edad', 'distrito', 'dia_semana', 'mes']\n",
      "Preprocesador creado.\n",
      "Pipeline creado.\n",
      "Evaluando modelo con validación cruzada...\n",
      "Porcentaje de acierto en validación cruzada: 0.4931954400990106\n",
      "Desviación estándar en validación cruzada: 0.0015661791497223584\n",
      "Entrenando el modelo completo...\n",
      "Modelo entrenado.\n",
      "Predicciones realizadas.\n",
      "Porcentaje de acierto en nuestro banco de test: 0.5013068361047271\n",
      "              precision    recall  f1-score   support\n",
      "\n",
      "           1       0.15      0.04      0.07      1289\n",
      "          14       0.41      0.50      0.45     13469\n",
      "           2       0.15      0.06      0.08      1741\n",
      "           3       0.06      0.02      0.03       489\n",
      "           4       0.00      0.00      0.00        26\n",
      "           5       0.11      0.03      0.05       548\n",
      "           6       0.07      0.02      0.03      1111\n",
      "           7       0.23      0.14      0.17      5634\n",
      "          77       0.64      0.72      0.68     20075\n",
      "\n",
      "    accuracy                           0.50     44382\n",
      "   macro avg       0.20      0.17      0.17     44382\n",
      "weighted avg       0.46      0.50      0.47     44382\n",
      "\n",
      "Tiempo de duración en hacer el modelo de predicción:  3790.0201115608215\n"
     ]
    }
   ],
   "source": [
    "from sklearn.model_selection import train_test_split, cross_val_score\n",
    "from sklearn.preprocessing import OneHotEncoder, StandardScaler\n",
    "from sklearn.compose import ColumnTransformer\n",
    "from sklearn.pipeline import Pipeline\n",
    "from sklearn.ensemble import RandomForestClassifier\n",
    "from sklearn.metrics import accuracy_score, classification_report\n",
    "from sklearn.model_selection import KFold\n",
    "import numpy as np\n",
    "import time\n",
    "\n",
    "inicio=time.time()\n",
    "X = df_Madrid.drop('cod_lesividad', axis=1)\n",
    "y = df_Madrid['cod_lesividad']\n",
    "\n",
    "# Dividir datos en conjuntos de entrenamiento y prueba\n",
    "X_train, X_test, y_train, y_test = train_test_split(X, y, test_size=0.2, random_state=42)\n",
    "print(\"Datos de entrenamiento y prueba divididos.\")\n",
    "\n",
    "# Definir columnas categóricas explícitamente (excluyendo las numéricas y otras columnas específicas)\n",
    "cat_features = ['franja_horaria', 'estado_meteorológico', 'rango_edad', 'distrito', 'dia_semana', 'mes']\n",
    "\n",
    "# Verificar que estas columnas existan en el DataFrame\n",
    "print(\"Columnas categóricas:\", cat_features)\n",
    "\n",
    "# Crear preprocesador solo para las columnas categóricas\n",
    "preprocessor = ColumnTransformer(\n",
    "    transformers=[\n",
    "        ('cat', OneHotEncoder(handle_unknown='ignore'), cat_features)\n",
    "    ])\n",
    "print(\"Preprocesador creado.\")\n",
    "\n",
    "# Crear pipeline con preprocesador y modelo\n",
    "model = Pipeline(steps=[\n",
    "    ('preprocessor', preprocessor),\n",
    "    ('classifier', RandomForestClassifier(random_state=42))\n",
    "])\n",
    "print(\"Pipeline creado.\")\n",
    "\n",
    "# Evaluar el modelo usando validación cruzada\n",
    "print(\"Evaluando modelo con validación cruzada...\")\n",
    "cv_scores = cross_val_score(model, X_train, y_train, cv=5)\n",
    "print(\"Porcentaje de acierto en validación cruzada:\", np.mean(cv_scores))\n",
    "print(\"Desviación estándar en validación cruzada:\", np.std(cv_scores))\n",
    "\n",
    "# Entrenar el modelo completo y predecir en el conjunto de prueba\n",
    "print(\"Entrenando el modelo completo...\")\n",
    "model.fit(X_train, y_train)\n",
    "print(\"Modelo entrenado.\")\n",
    "y_pred = model.predict(X_test)\n",
    "print(\"Predicciones realizadas.\")\n",
    "\n",
    "# Evaluar el modelo en el conjunto de prueba\n",
    "print(\"Porcentaje de acierto en nuestro banco de test:\", accuracy_score(y_test, y_pred))\n",
    "print(classification_report(y_test, y_pred))\n",
    "final = time.time()\n",
    "duracion = final-inicio\n",
    "print (\"Tiempo de duración en hacer el modelo de predicción: \",duracion)"
   ]
  },
  {
   "cell_type": "code",
   "execution_count": 38,
   "id": "d3251e0e-9708-4576-831a-f4a995a7281b",
   "metadata": {},
   "outputs": [
    {
     "name": "stdout",
     "output_type": "stream",
     "text": [
      "Datos de entrenamiento y prueba divididos.\n",
      "Columnas numéricas: ['latitud', 'longitud']\n",
      "Columnas categóricas: ['franja_horaria', 'estado_meteorológico', 'rango_edad', 'distrito', 'dia_semana', 'mes']\n",
      "Preprocesador creado.\n",
      "Pipeline creado.\n",
      "Porcentaje de acierto en validación cruzada: 0.5332623410100895\n",
      "Desviación estándar en validación cruzada: 0.002249025328851927\n",
      "Modelo entrenado y predicciones realizadas.\n",
      "Porcentaje de acierto en nuestro banco de test: 0.5443423009328106\n",
      "              precision    recall  f1-score   support\n",
      "\n",
      "           1       0.23      0.04      0.08      1289\n",
      "          14       0.43      0.56      0.49     13469\n",
      "           2       0.23      0.06      0.09      1741\n",
      "           3       0.07      0.01      0.02       489\n",
      "           4       0.00      0.00      0.00        26\n",
      "           5       0.19      0.04      0.07       548\n",
      "           6       0.12      0.02      0.04      1111\n",
      "           7       0.27      0.13      0.18      5634\n",
      "          77       0.68      0.78      0.73     20075\n",
      "\n",
      "    accuracy                           0.54     44382\n",
      "   macro avg       0.25      0.18      0.19     44382\n",
      "weighted avg       0.49      0.54      0.51     44382\n",
      "\n",
      "Tiempo de duración en hacer el modelo de predicción:  2883.5704798698425\n"
     ]
    }
   ],
   "source": [
    "from sklearn.model_selection import train_test_split, cross_val_score\n",
    "from sklearn.preprocessing import OneHotEncoder, StandardScaler\n",
    "from sklearn.compose import ColumnTransformer\n",
    "from sklearn.pipeline import Pipeline\n",
    "from sklearn.ensemble import RandomForestClassifier\n",
    "from sklearn.metrics import accuracy_score, classification_report\n",
    "from sklearn.model_selection import KFold\n",
    "import numpy as np\n",
    "import time\n",
    "\n",
    "inicio=time.time()\n",
    "# Separar características (X) y la variable objetivo (y)\n",
    "X = df_Madrid.drop('cod_lesividad', axis=1)\n",
    "y = df_Madrid['cod_lesividad']\n",
    "\n",
    "# Dividir datos en conjuntos de entrenamiento y prueba\n",
    "X_train, X_test, y_train, y_test = train_test_split(X, y, test_size=0.2, random_state=42)\n",
    "print(\"Datos de entrenamiento y prueba divididos.\")\n",
    "\n",
    "# Definir columnas numéricas\n",
    "num_features = ['latitud', 'longitud']\n",
    "\n",
    "# Crear la lista de columnas categóricas de manera explícita\n",
    "cat_features = ['franja_horaria', 'estado_meteorológico', 'rango_edad', 'distrito', 'dia_semana', 'mes']\n",
    "\n",
    "# Verificar que estas columnas existan en el DataFrame\n",
    "print(\"Columnas numéricas:\", num_features)\n",
    "print(\"Columnas categóricas:\", cat_features)\n",
    "\n",
    "# Crear preprocesador\n",
    "preprocessor = ColumnTransformer(\n",
    "    transformers=[\n",
    "        ('num', StandardScaler(), num_features),\n",
    "        ('cat', OneHotEncoder(handle_unknown='ignore'), cat_features)\n",
    "    ])\n",
    "print(\"Preprocesador creado.\")\n",
    "\n",
    "# Crear pipeline con preprocesador y modelo\n",
    "model = Pipeline(steps=[\n",
    "    ('preprocessor', preprocessor),\n",
    "    ('classifier', RandomForestClassifier(random_state=42))\n",
    "])\n",
    "print(\"Pipeline creado.\")\n",
    "\n",
    "# Evaluar el modelo usando validación cruzada\n",
    "cv_scores = cross_val_score(model, X_train, y_train, cv=5)\n",
    "print(\"Porcentaje de acierto en validación cruzada:\", np.mean(cv_scores))\n",
    "print(\"Desviación estándar en validación cruzada:\", np.std(cv_scores))\n",
    "\n",
    "# Entrenar el modelo completo y predecir en el conjunto de prueba\n",
    "model.fit(X_train, y_train)\n",
    "y_pred = model.predict(X_test)\n",
    "print(\"Modelo entrenado y predicciones realizadas.\")\n",
    "\n",
    "# Evaluar el modelo en el conjunto de prueba\n",
    "print(\"Porcentaje de acierto en nuestro banco de test:\", accuracy_score(y_test, y_pred))\n",
    "print(classification_report(y_test, y_pred))\n",
    "final = time.time()\n",
    "duracion = final-inicio\n",
    "print (\"Tiempo de duración en hacer el modelo de predicción: \",duracion)"
   ]
  },
  {
   "cell_type": "code",
   "execution_count": 38,
   "id": "66f8e199-c7a2-43f5-85b4-13cd231d8dbc",
   "metadata": {},
   "outputs": [
    {
     "name": "stdout",
     "output_type": "stream",
     "text": [
      "Datos de entrenamiento y prueba divididos.\n",
      "Columnas categóricas: ['franja_horaria', 'mes']\n",
      "Preprocesador creado.\n",
      "Pipeline creado.\n",
      "Evaluando modelo con validación cruzada...\n",
      "Porcentaje de acierto en validación cruzada: 0.45232301979058215\n",
      "Desviación estándar en validación cruzada: 0.0006377528057739635\n",
      "Entrenando el modelo completo...\n",
      "Modelo entrenado.\n",
      "Predicciones realizadas.\n",
      "Porcentaje de acierto en nuestro banco de test: 0.45293136857284483\n"
     ]
    },
    {
     "name": "stderr",
     "output_type": "stream",
     "text": [
      "C:\\Users\\Sixtorz\\AppData\\Local\\Programs\\Python\\Python312\\Lib\\site-packages\\sklearn\\metrics\\_classification.py:1517: UndefinedMetricWarning: Precision is ill-defined and being set to 0.0 in labels with no predicted samples. Use `zero_division` parameter to control this behavior.\n",
      "  _warn_prf(average, modifier, f\"{metric.capitalize()} is\", len(result))\n"
     ]
    },
    {
     "name": "stdout",
     "output_type": "stream",
     "text": [
      "              precision    recall  f1-score   support\n",
      "\n",
      "           1       0.00      0.00      0.00      1289\n",
      "          14       0.41      0.01      0.02     13469\n",
      "           2       0.00      0.00      0.00      1741\n",
      "           3       0.00      0.00      0.00       489\n",
      "           4       0.00      0.00      0.00        26\n",
      "           5       0.00      0.00      0.00       548\n",
      "           6       0.00      0.00      0.00      1111\n",
      "           7       0.00      0.00      0.00      5634\n",
      "          77       0.45      0.99      0.62     20075\n",
      "\n",
      "    accuracy                           0.45     44382\n",
      "   macro avg       0.10      0.11      0.07     44382\n",
      "weighted avg       0.33      0.45      0.29     44382\n",
      "\n",
      "Tiempo de duración en hacer el modelo de predicción:  89.52699685096741\n"
     ]
    },
    {
     "name": "stderr",
     "output_type": "stream",
     "text": [
      "C:\\Users\\Sixtorz\\AppData\\Local\\Programs\\Python\\Python312\\Lib\\site-packages\\sklearn\\metrics\\_classification.py:1517: UndefinedMetricWarning: Precision is ill-defined and being set to 0.0 in labels with no predicted samples. Use `zero_division` parameter to control this behavior.\n",
      "  _warn_prf(average, modifier, f\"{metric.capitalize()} is\", len(result))\n",
      "C:\\Users\\Sixtorz\\AppData\\Local\\Programs\\Python\\Python312\\Lib\\site-packages\\sklearn\\metrics\\_classification.py:1517: UndefinedMetricWarning: Precision is ill-defined and being set to 0.0 in labels with no predicted samples. Use `zero_division` parameter to control this behavior.\n",
      "  _warn_prf(average, modifier, f\"{metric.capitalize()} is\", len(result))\n"
     ]
    }
   ],
   "source": [
    "from sklearn.model_selection import train_test_split, cross_val_score\n",
    "from sklearn.preprocessing import OneHotEncoder, StandardScaler\n",
    "from sklearn.compose import ColumnTransformer\n",
    "from sklearn.pipeline import Pipeline\n",
    "from sklearn.ensemble import RandomForestClassifier\n",
    "from sklearn.metrics import accuracy_score, classification_report\n",
    "from sklearn.model_selection import KFold\n",
    "import numpy as np\n",
    "import time\n",
    "\n",
    "inicio=time.time()\n",
    "X = df_Madrid.drop('cod_lesividad', axis=1)\n",
    "y = df_Madrid['cod_lesividad']\n",
    "\n",
    "# Dividir datos en conjuntos de entrenamiento y prueba\n",
    "X_train, X_test, y_train, y_test = train_test_split(X, y, test_size=0.2, random_state=42)\n",
    "print(\"Datos de entrenamiento y prueba divididos.\")\n",
    "\n",
    "# Definir columnas categóricas explícitamente (excluyendo las numéricas y otras columnas específicas)\n",
    "cat_features = ['franja_horaria','mes']\n",
    "\n",
    "# Verificar que estas columnas existan en el DataFrame\n",
    "print(\"Columnas categóricas:\", cat_features)\n",
    "\n",
    "# Crear preprocesador solo para las columnas categóricas\n",
    "preprocessor = ColumnTransformer(\n",
    "    transformers=[\n",
    "        ('cat', OneHotEncoder(handle_unknown='ignore'), cat_features)\n",
    "    ])\n",
    "print(\"Preprocesador creado.\")\n",
    "\n",
    "# Crear pipeline con preprocesador y modelo\n",
    "model = Pipeline(steps=[\n",
    "    ('preprocessor', preprocessor),\n",
    "    ('classifier', RandomForestClassifier(random_state=42))\n",
    "])\n",
    "print(\"Pipeline creado.\")\n",
    "\n",
    "# Evaluar el modelo usando validación cruzada\n",
    "print(\"Evaluando modelo con validación cruzada...\")\n",
    "cv_scores = cross_val_score(model, X_train, y_train, cv=5)\n",
    "print(\"Porcentaje de acierto en validación cruzada:\", np.mean(cv_scores))\n",
    "print(\"Desviación estándar en validación cruzada:\", np.std(cv_scores))\n",
    "\n",
    "# Entrenar el modelo completo y predecir en el conjunto de prueba\n",
    "print(\"Entrenando el modelo completo...\")\n",
    "model.fit(X_train, y_train)\n",
    "print(\"Modelo entrenado.\")\n",
    "y_pred = model.predict(X_test)\n",
    "print(\"Predicciones realizadas.\")\n",
    "\n",
    "# Evaluar el modelo en el conjunto de prueba\n",
    "print(\"Porcentaje de acierto en nuestro banco de test:\", accuracy_score(y_test, y_pred))\n",
    "print(classification_report(y_test, y_pred))\n",
    "final = time.time()\n",
    "duracion = final-inicio\n",
    "print (\"Tiempo de duración en hacer el modelo de predicción: \",duracion)"
   ]
  },
  {
   "cell_type": "code",
   "execution_count": 39,
   "id": "ced4ffa8-581b-4904-87f2-725fe923daad",
   "metadata": {},
   "outputs": [
    {
     "name": "stdout",
     "output_type": "stream",
     "text": [
      "Datos de entrenamiento y prueba divididos.\n",
      "Columnas numéricas: ['latitud', 'longitud']\n",
      "Columnas categóricas: ['franja_horaria', 'mes']\n",
      "Preprocesador creado.\n",
      "Pipeline creado.\n",
      "Porcentaje de acierto en validación cruzada: 0.5482966036321234\n",
      "Desviación estándar en validación cruzada: 0.00043984371976018454\n",
      "Modelo entrenado y predicciones realizadas.\n",
      "Porcentaje de acierto en nuestro banco de test: 0.5759316840160426\n",
      "              precision    recall  f1-score   support\n",
      "\n",
      "           1       0.13      0.09      0.11      1289\n",
      "          14       0.44      0.48      0.46     13469\n",
      "           2       0.16      0.11      0.13      1741\n",
      "           3       0.07      0.05      0.06       489\n",
      "           4       0.00      0.00      0.00        26\n",
      "           5       0.12      0.09      0.10       548\n",
      "           6       0.11      0.07      0.09      1111\n",
      "           7       0.24      0.19      0.21      5634\n",
      "          77       0.82      0.88      0.85     20075\n",
      "\n",
      "    accuracy                           0.58     44382\n",
      "   macro avg       0.23      0.22      0.22     44382\n",
      "weighted avg       0.55      0.58      0.56     44382\n",
      "\n",
      "Tiempo de duración en hacer el modelo de predicción:  1991.1332092285156\n"
     ]
    }
   ],
   "source": [
    "from sklearn.model_selection import train_test_split, cross_val_score\n",
    "from sklearn.preprocessing import OneHotEncoder, StandardScaler\n",
    "from sklearn.compose import ColumnTransformer\n",
    "from sklearn.pipeline import Pipeline\n",
    "from sklearn.ensemble import RandomForestClassifier\n",
    "from sklearn.metrics import accuracy_score, classification_report\n",
    "from sklearn.model_selection import KFold\n",
    "import numpy as np\n",
    "import time\n",
    "\n",
    "inicio=time.time()\n",
    "# Separamos características (X) y la variable objetivo (y)\n",
    "X = df_Madrid.drop('cod_lesividad', axis=1)\n",
    "y = df_Madrid['cod_lesividad']\n",
    "\n",
    "\n",
    "# Dividimos datos en conjuntos de entrenamiento y prueba\n",
    "X_train, X_test, y_train, y_test = train_test_split(X, y, test_size=0.2, random_state=42)\n",
    "print(\"Datos de entrenamiento y prueba divididos.\")\n",
    "\n",
    "# Definimos columnas numéricas\n",
    "num_features = ['latitud', 'longitud']\n",
    "\n",
    "# Creamos la lista de columnas categóricas de manera explícita\n",
    "cat_features = ['franja_horaria', 'mes']\n",
    "\n",
    "# Verificamos que estas columnas existan en el DataFrame\n",
    "print(\"Columnas numéricas:\", num_features)\n",
    "print(\"Columnas categóricas:\", cat_features)\n",
    "\n",
    "# Creamos preprocesador\n",
    "preprocessor = ColumnTransformer(\n",
    "    transformers=[\n",
    "        ('num', StandardScaler(), num_features),\n",
    "        ('cat', OneHotEncoder(handle_unknown='ignore'), cat_features)\n",
    "    ])\n",
    "print(\"Preprocesador creado.\")\n",
    "\n",
    "# Creamos pipeline con preprocesador y modelo\n",
    "model = Pipeline(steps=[\n",
    "    ('preprocessor', preprocessor),\n",
    "    ('classifier', RandomForestClassifier(random_state=42))\n",
    "])\n",
    "print(\"Pipeline creado.\")\n",
    "\n",
    "# Evaluamos el modelo usando validación cruzada\n",
    "cv_scores = cross_val_score(model, X_train, y_train, cv=5)\n",
    "print(\"Porcentaje de acierto en validación cruzada:\", np.mean(cv_scores))\n",
    "print(\"Desviación estándar en validación cruzada:\", np.std(cv_scores))\n",
    "\n",
    "# Entrenamos el modelo completo y predecir en el conjunto de prueba\n",
    "model.fit(X_train, y_train)\n",
    "y_pred = model.predict(X_test)\n",
    "print(\"Modelo entrenado y predicciones realizadas.\")\n",
    "\n",
    "# Evaluamos el modelo en el conjunto de prueba\n",
    "print(\"Porcentaje de acierto en nuestro banco de test:\", accuracy_score(y_test, y_pred))\n",
    "print(classification_report(y_test, y_pred))\n",
    "final = time.time()\n",
    "duracion = final-inicio\n",
    "print (\"Tiempo de duración en hacer el modelo de predicción: \",duracion)"
   ]
  },
  {
   "cell_type": "code",
   "execution_count": null,
   "id": "520a011f-37de-4fa3-ba04-6ef36e1e1f14",
   "metadata": {},
   "outputs": [],
   "source": []
  }
 ],
 "metadata": {
  "extensions": {
   "jupyter_dashboards": {
    "activeView": "grid_default",
    "version": 1,
    "views": {
     "grid_default": {
      "cellMargin": 2,
      "defaultCellHeight": 40,
      "maxColumns": 12,
      "name": "grid",
      "type": "grid"
     }
    }
   }
  },
  "kernelspec": {
   "display_name": "Python 3 (ipykernel)",
   "language": "python",
   "name": "python3"
  },
  "language_info": {
   "codemirror_mode": {
    "name": "ipython",
    "version": 3
   },
   "file_extension": ".py",
   "mimetype": "text/x-python",
   "name": "python",
   "nbconvert_exporter": "python",
   "pygments_lexer": "ipython3",
   "version": "3.12.3"
  }
 },
 "nbformat": 4,
 "nbformat_minor": 5
}
